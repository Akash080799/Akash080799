{
  "cells": [
    {
      "cell_type": "markdown",
      "metadata": {
        "id": "W3EatTY4VQ4S"
      },
      "source": [
        "# Electrical Fault detection"
      ]
    },
    {
      "cell_type": "markdown",
      "metadata": {
        "id": "yOPnc8tVVg_a"
      },
      "source": [
        "We have to predict faults in a power system."
      ]
    },
    {
      "cell_type": "markdown",
      "metadata": {
        "id": "DYUvjaFqVtKh"
      },
      "source": [
        "# Dataset Desciption\n",
        "\n",
        "The dataset contains one file \n",
        "\n",
        "detect_dataset.csv\n",
        "\n",
        "shape of the dataset is (12001, 9)\n",
        "\n",
        "# Columns in dataset\n",
        "\n",
        "there are seven columns\n",
        "\n",
        "'Output (S)',\n",
        "\n",
        "'Ia',\n",
        "\n",
        "'Ib',\n",
        "\n",
        "'Ic',\n",
        "\n",
        "'Va', \n",
        "\n",
        "'Vb', \n",
        "\n",
        "'Vc', \n",
        "\n",
        "'Unnamed: 7',\n",
        "\n",
        "'Unnamed: 8'\n",
        "\n",
        "Outputs - 0 (No-fault) or 1(Fault is present)"
      ]
    },
    {
      "cell_type": "code",
      "execution_count": 1,
      "metadata": {
        "id": "onJmI6AzieJL"
      },
      "outputs": [],
      "source": [
        "# Importing Necessary Libraries\n",
        "import numpy as np\n",
        "import matplotlib.pyplot as plt\n",
        "import pandas as pd\n",
        "import seaborn as sns"
      ]
    },
    {
      "cell_type": "code",
      "execution_count": 1,
      "metadata": {
        "id": "iLNjmv7vlvNp"
      },
      "outputs": [],
      "source": [
        "\n"
      ]
    },
    {
      "cell_type": "code",
      "execution_count": 2,
      "metadata": {
        "id": "t3U0ef3llvMd"
      },
      "outputs": [],
      "source": [
        "# Read csv file using pandas\n",
        "data = pd.read_csv('/content/detect_dataset.csv')"
      ]
    },
    {
      "cell_type": "code",
      "execution_count": 3,
      "metadata": {
        "colab": {
          "base_uri": "https://localhost:8080/",
          "height": 206
        },
        "id": "yckoKHYilvJT",
        "outputId": "4a83060d-1805-4794-f875-313f322828cd"
      },
      "outputs": [
        {
          "output_type": "execute_result",
          "data": {
            "text/plain": [
              "   Output (S)          Ia        Ib          Ic        Va        Vb        Vc  \\\n",
              "0           0 -170.472196  9.219613  161.252583  0.054490 -0.659921  0.605431   \n",
              "1           0 -122.235754  6.168667  116.067087  0.102000 -0.628612  0.526202   \n",
              "2           0  -90.161474  3.813632   86.347841  0.141026 -0.605277  0.464251   \n",
              "3           0  -79.904916  2.398803   77.506112  0.156272 -0.602235  0.445963   \n",
              "4           0  -63.885255  0.590667   63.294587  0.180451 -0.591501  0.411050   \n",
              "\n",
              "   Unnamed: 7  Unnamed: 8  \n",
              "0         NaN         NaN  \n",
              "1         NaN         NaN  \n",
              "2         NaN         NaN  \n",
              "3         NaN         NaN  \n",
              "4         NaN         NaN  "
            ],
            "text/html": [
              "\n",
              "  <div id=\"df-9846d306-dca5-49a0-b656-d6fff207a51b\">\n",
              "    <div class=\"colab-df-container\">\n",
              "      <div>\n",
              "<style scoped>\n",
              "    .dataframe tbody tr th:only-of-type {\n",
              "        vertical-align: middle;\n",
              "    }\n",
              "\n",
              "    .dataframe tbody tr th {\n",
              "        vertical-align: top;\n",
              "    }\n",
              "\n",
              "    .dataframe thead th {\n",
              "        text-align: right;\n",
              "    }\n",
              "</style>\n",
              "<table border=\"1\" class=\"dataframe\">\n",
              "  <thead>\n",
              "    <tr style=\"text-align: right;\">\n",
              "      <th></th>\n",
              "      <th>Output (S)</th>\n",
              "      <th>Ia</th>\n",
              "      <th>Ib</th>\n",
              "      <th>Ic</th>\n",
              "      <th>Va</th>\n",
              "      <th>Vb</th>\n",
              "      <th>Vc</th>\n",
              "      <th>Unnamed: 7</th>\n",
              "      <th>Unnamed: 8</th>\n",
              "    </tr>\n",
              "  </thead>\n",
              "  <tbody>\n",
              "    <tr>\n",
              "      <th>0</th>\n",
              "      <td>0</td>\n",
              "      <td>-170.472196</td>\n",
              "      <td>9.219613</td>\n",
              "      <td>161.252583</td>\n",
              "      <td>0.054490</td>\n",
              "      <td>-0.659921</td>\n",
              "      <td>0.605431</td>\n",
              "      <td>NaN</td>\n",
              "      <td>NaN</td>\n",
              "    </tr>\n",
              "    <tr>\n",
              "      <th>1</th>\n",
              "      <td>0</td>\n",
              "      <td>-122.235754</td>\n",
              "      <td>6.168667</td>\n",
              "      <td>116.067087</td>\n",
              "      <td>0.102000</td>\n",
              "      <td>-0.628612</td>\n",
              "      <td>0.526202</td>\n",
              "      <td>NaN</td>\n",
              "      <td>NaN</td>\n",
              "    </tr>\n",
              "    <tr>\n",
              "      <th>2</th>\n",
              "      <td>0</td>\n",
              "      <td>-90.161474</td>\n",
              "      <td>3.813632</td>\n",
              "      <td>86.347841</td>\n",
              "      <td>0.141026</td>\n",
              "      <td>-0.605277</td>\n",
              "      <td>0.464251</td>\n",
              "      <td>NaN</td>\n",
              "      <td>NaN</td>\n",
              "    </tr>\n",
              "    <tr>\n",
              "      <th>3</th>\n",
              "      <td>0</td>\n",
              "      <td>-79.904916</td>\n",
              "      <td>2.398803</td>\n",
              "      <td>77.506112</td>\n",
              "      <td>0.156272</td>\n",
              "      <td>-0.602235</td>\n",
              "      <td>0.445963</td>\n",
              "      <td>NaN</td>\n",
              "      <td>NaN</td>\n",
              "    </tr>\n",
              "    <tr>\n",
              "      <th>4</th>\n",
              "      <td>0</td>\n",
              "      <td>-63.885255</td>\n",
              "      <td>0.590667</td>\n",
              "      <td>63.294587</td>\n",
              "      <td>0.180451</td>\n",
              "      <td>-0.591501</td>\n",
              "      <td>0.411050</td>\n",
              "      <td>NaN</td>\n",
              "      <td>NaN</td>\n",
              "    </tr>\n",
              "  </tbody>\n",
              "</table>\n",
              "</div>\n",
              "      <button class=\"colab-df-convert\" onclick=\"convertToInteractive('df-9846d306-dca5-49a0-b656-d6fff207a51b')\"\n",
              "              title=\"Convert this dataframe to an interactive table.\"\n",
              "              style=\"display:none;\">\n",
              "        \n",
              "  <svg xmlns=\"http://www.w3.org/2000/svg\" height=\"24px\"viewBox=\"0 0 24 24\"\n",
              "       width=\"24px\">\n",
              "    <path d=\"M0 0h24v24H0V0z\" fill=\"none\"/>\n",
              "    <path d=\"M18.56 5.44l.94 2.06.94-2.06 2.06-.94-2.06-.94-.94-2.06-.94 2.06-2.06.94zm-11 1L8.5 8.5l.94-2.06 2.06-.94-2.06-.94L8.5 2.5l-.94 2.06-2.06.94zm10 10l.94 2.06.94-2.06 2.06-.94-2.06-.94-.94-2.06-.94 2.06-2.06.94z\"/><path d=\"M17.41 7.96l-1.37-1.37c-.4-.4-.92-.59-1.43-.59-.52 0-1.04.2-1.43.59L10.3 9.45l-7.72 7.72c-.78.78-.78 2.05 0 2.83L4 21.41c.39.39.9.59 1.41.59.51 0 1.02-.2 1.41-.59l7.78-7.78 2.81-2.81c.8-.78.8-2.07 0-2.86zM5.41 20L4 18.59l7.72-7.72 1.47 1.35L5.41 20z\"/>\n",
              "  </svg>\n",
              "      </button>\n",
              "      \n",
              "  <style>\n",
              "    .colab-df-container {\n",
              "      display:flex;\n",
              "      flex-wrap:wrap;\n",
              "      gap: 12px;\n",
              "    }\n",
              "\n",
              "    .colab-df-convert {\n",
              "      background-color: #E8F0FE;\n",
              "      border: none;\n",
              "      border-radius: 50%;\n",
              "      cursor: pointer;\n",
              "      display: none;\n",
              "      fill: #1967D2;\n",
              "      height: 32px;\n",
              "      padding: 0 0 0 0;\n",
              "      width: 32px;\n",
              "    }\n",
              "\n",
              "    .colab-df-convert:hover {\n",
              "      background-color: #E2EBFA;\n",
              "      box-shadow: 0px 1px 2px rgba(60, 64, 67, 0.3), 0px 1px 3px 1px rgba(60, 64, 67, 0.15);\n",
              "      fill: #174EA6;\n",
              "    }\n",
              "\n",
              "    [theme=dark] .colab-df-convert {\n",
              "      background-color: #3B4455;\n",
              "      fill: #D2E3FC;\n",
              "    }\n",
              "\n",
              "    [theme=dark] .colab-df-convert:hover {\n",
              "      background-color: #434B5C;\n",
              "      box-shadow: 0px 1px 3px 1px rgba(0, 0, 0, 0.15);\n",
              "      filter: drop-shadow(0px 1px 2px rgba(0, 0, 0, 0.3));\n",
              "      fill: #FFFFFF;\n",
              "    }\n",
              "  </style>\n",
              "\n",
              "      <script>\n",
              "        const buttonEl =\n",
              "          document.querySelector('#df-9846d306-dca5-49a0-b656-d6fff207a51b button.colab-df-convert');\n",
              "        buttonEl.style.display =\n",
              "          google.colab.kernel.accessAllowed ? 'block' : 'none';\n",
              "\n",
              "        async function convertToInteractive(key) {\n",
              "          const element = document.querySelector('#df-9846d306-dca5-49a0-b656-d6fff207a51b');\n",
              "          const dataTable =\n",
              "            await google.colab.kernel.invokeFunction('convertToInteractive',\n",
              "                                                     [key], {});\n",
              "          if (!dataTable) return;\n",
              "\n",
              "          const docLinkHtml = 'Like what you see? Visit the ' +\n",
              "            '<a target=\"_blank\" href=https://colab.research.google.com/notebooks/data_table.ipynb>data table notebook</a>'\n",
              "            + ' to learn more about interactive tables.';\n",
              "          element.innerHTML = '';\n",
              "          dataTable['output_type'] = 'display_data';\n",
              "          await google.colab.output.renderOutput(dataTable, element);\n",
              "          const docLink = document.createElement('div');\n",
              "          docLink.innerHTML = docLinkHtml;\n",
              "          element.appendChild(docLink);\n",
              "        }\n",
              "      </script>\n",
              "    </div>\n",
              "  </div>\n",
              "  "
            ]
          },
          "metadata": {},
          "execution_count": 3
        }
      ],
      "source": [
        "data.head()"
      ]
    },
    {
      "cell_type": "markdown",
      "metadata": {
        "id": "174wyWpVWXHr"
      },
      "source": [
        "# basic EDA"
      ]
    },
    {
      "cell_type": "code",
      "execution_count": 4,
      "metadata": {
        "colab": {
          "base_uri": "https://localhost:8080/"
        },
        "id": "RDwkZbfflvIK",
        "outputId": "4455b1ec-844b-4f7f-a42d-796168ddc2a6"
      },
      "outputs": [
        {
          "output_type": "execute_result",
          "data": {
            "text/plain": [
              "(12001, 9)"
            ]
          },
          "metadata": {},
          "execution_count": 4
        }
      ],
      "source": [
        "#check shape of the dataset\n",
        "data.shape"
      ]
    },
    {
      "cell_type": "code",
      "execution_count": 5,
      "metadata": {
        "colab": {
          "base_uri": "https://localhost:8080/"
        },
        "id": "7e8t0ue5lvEV",
        "outputId": "b2f14386-ce7d-4090-f46f-72dedef24599"
      },
      "outputs": [
        {
          "output_type": "execute_result",
          "data": {
            "text/plain": [
              "Index(['Output (S)', 'Ia', 'Ib', 'Ic', 'Va', 'Vb', 'Vc', 'Unnamed: 7',\n",
              "       'Unnamed: 8'],\n",
              "      dtype='object')"
            ]
          },
          "metadata": {},
          "execution_count": 5
        }
      ],
      "source": [
        "# check columns of dataset\n",
        "data.columns"
      ]
    },
    {
      "cell_type": "code",
      "execution_count": 6,
      "metadata": {
        "colab": {
          "base_uri": "https://localhost:8080/"
        },
        "id": "qmywjdE5SjwQ",
        "outputId": "a7e1ee75-df3e-4a77-9b8a-9cf58fa9855e"
      },
      "outputs": [
        {
          "output_type": "execute_result",
          "data": {
            "text/plain": [
              "12001"
            ]
          },
          "metadata": {},
          "execution_count": 6
        }
      ],
      "source": [
        "# check length of dataset\n",
        "data.shape[0]"
      ]
    },
    {
      "cell_type": "code",
      "execution_count": 7,
      "metadata": {
        "colab": {
          "base_uri": "https://localhost:8080/"
        },
        "id": "1bFLlxnlSgGc",
        "outputId": "23355cbd-9e04-4e14-b0c6-4b8ca05e5d34"
      },
      "outputs": [
        {
          "output_type": "stream",
          "name": "stdout",
          "text": [
            "<class 'pandas.core.frame.DataFrame'>\n",
            "RangeIndex: 12001 entries, 0 to 12000\n",
            "Data columns (total 9 columns):\n",
            " #   Column      Non-Null Count  Dtype  \n",
            "---  ------      --------------  -----  \n",
            " 0   Output (S)  12001 non-null  int64  \n",
            " 1   Ia          12001 non-null  float64\n",
            " 2   Ib          12001 non-null  float64\n",
            " 3   Ic          12001 non-null  float64\n",
            " 4   Va          12001 non-null  float64\n",
            " 5   Vb          12001 non-null  float64\n",
            " 6   Vc          12001 non-null  float64\n",
            " 7   Unnamed: 7  0 non-null      float64\n",
            " 8   Unnamed: 8  0 non-null      float64\n",
            "dtypes: float64(8), int64(1)\n",
            "memory usage: 843.9 KB\n"
          ]
        }
      ],
      "source": [
        "# Check which columns are having categorical, numerical or boolean values\n",
        "data.info()"
      ]
    },
    {
      "cell_type": "code",
      "execution_count": 8,
      "metadata": {
        "colab": {
          "base_uri": "https://localhost:8080/",
          "height": 300
        },
        "id": "WEEyYVD_lvDU",
        "outputId": "bfc7e5df-c3af-42a8-c082-38a6a3c73470"
      },
      "outputs": [
        {
          "output_type": "execute_result",
          "data": {
            "text/plain": [
              "         Output (S)            Ia            Ib            Ic            Va  \\\n",
              "count  12001.000000  12001.000000  12001.000000  12001.000000  12001.000000   \n",
              "mean       0.457962      6.709369    -26.557793     22.353043      0.010517   \n",
              "std        0.498250    377.158470    357.458613    302.052809      0.346221   \n",
              "min        0.000000   -883.542316   -900.526951   -883.357762     -0.620748   \n",
              "25%        0.000000    -64.348986    -51.421937    -54.562257     -0.237610   \n",
              "50%        0.000000     -3.239788      4.711283     -0.399419      0.002465   \n",
              "75%        1.000000     53.823453     69.637787     45.274542      0.285078   \n",
              "max        1.000000    885.738571    889.868884    901.274261      0.609864   \n",
              "\n",
              "                 Vb            Vc  Unnamed: 7  Unnamed: 8  \n",
              "count  12001.000000  12001.000000         0.0         0.0  \n",
              "mean      -0.015498      0.004980         NaN         NaN  \n",
              "std        0.357644      0.349272         NaN         NaN  \n",
              "min       -0.659921     -0.612709         NaN         NaN  \n",
              "25%       -0.313721     -0.278951         NaN         NaN  \n",
              "50%       -0.007192      0.008381         NaN         NaN  \n",
              "75%        0.248681      0.289681         NaN         NaN  \n",
              "max        0.627875      0.608243         NaN         NaN  "
            ],
            "text/html": [
              "\n",
              "  <div id=\"df-62d67cff-a09c-4682-9b18-95b4da16f4bb\">\n",
              "    <div class=\"colab-df-container\">\n",
              "      <div>\n",
              "<style scoped>\n",
              "    .dataframe tbody tr th:only-of-type {\n",
              "        vertical-align: middle;\n",
              "    }\n",
              "\n",
              "    .dataframe tbody tr th {\n",
              "        vertical-align: top;\n",
              "    }\n",
              "\n",
              "    .dataframe thead th {\n",
              "        text-align: right;\n",
              "    }\n",
              "</style>\n",
              "<table border=\"1\" class=\"dataframe\">\n",
              "  <thead>\n",
              "    <tr style=\"text-align: right;\">\n",
              "      <th></th>\n",
              "      <th>Output (S)</th>\n",
              "      <th>Ia</th>\n",
              "      <th>Ib</th>\n",
              "      <th>Ic</th>\n",
              "      <th>Va</th>\n",
              "      <th>Vb</th>\n",
              "      <th>Vc</th>\n",
              "      <th>Unnamed: 7</th>\n",
              "      <th>Unnamed: 8</th>\n",
              "    </tr>\n",
              "  </thead>\n",
              "  <tbody>\n",
              "    <tr>\n",
              "      <th>count</th>\n",
              "      <td>12001.000000</td>\n",
              "      <td>12001.000000</td>\n",
              "      <td>12001.000000</td>\n",
              "      <td>12001.000000</td>\n",
              "      <td>12001.000000</td>\n",
              "      <td>12001.000000</td>\n",
              "      <td>12001.000000</td>\n",
              "      <td>0.0</td>\n",
              "      <td>0.0</td>\n",
              "    </tr>\n",
              "    <tr>\n",
              "      <th>mean</th>\n",
              "      <td>0.457962</td>\n",
              "      <td>6.709369</td>\n",
              "      <td>-26.557793</td>\n",
              "      <td>22.353043</td>\n",
              "      <td>0.010517</td>\n",
              "      <td>-0.015498</td>\n",
              "      <td>0.004980</td>\n",
              "      <td>NaN</td>\n",
              "      <td>NaN</td>\n",
              "    </tr>\n",
              "    <tr>\n",
              "      <th>std</th>\n",
              "      <td>0.498250</td>\n",
              "      <td>377.158470</td>\n",
              "      <td>357.458613</td>\n",
              "      <td>302.052809</td>\n",
              "      <td>0.346221</td>\n",
              "      <td>0.357644</td>\n",
              "      <td>0.349272</td>\n",
              "      <td>NaN</td>\n",
              "      <td>NaN</td>\n",
              "    </tr>\n",
              "    <tr>\n",
              "      <th>min</th>\n",
              "      <td>0.000000</td>\n",
              "      <td>-883.542316</td>\n",
              "      <td>-900.526951</td>\n",
              "      <td>-883.357762</td>\n",
              "      <td>-0.620748</td>\n",
              "      <td>-0.659921</td>\n",
              "      <td>-0.612709</td>\n",
              "      <td>NaN</td>\n",
              "      <td>NaN</td>\n",
              "    </tr>\n",
              "    <tr>\n",
              "      <th>25%</th>\n",
              "      <td>0.000000</td>\n",
              "      <td>-64.348986</td>\n",
              "      <td>-51.421937</td>\n",
              "      <td>-54.562257</td>\n",
              "      <td>-0.237610</td>\n",
              "      <td>-0.313721</td>\n",
              "      <td>-0.278951</td>\n",
              "      <td>NaN</td>\n",
              "      <td>NaN</td>\n",
              "    </tr>\n",
              "    <tr>\n",
              "      <th>50%</th>\n",
              "      <td>0.000000</td>\n",
              "      <td>-3.239788</td>\n",
              "      <td>4.711283</td>\n",
              "      <td>-0.399419</td>\n",
              "      <td>0.002465</td>\n",
              "      <td>-0.007192</td>\n",
              "      <td>0.008381</td>\n",
              "      <td>NaN</td>\n",
              "      <td>NaN</td>\n",
              "    </tr>\n",
              "    <tr>\n",
              "      <th>75%</th>\n",
              "      <td>1.000000</td>\n",
              "      <td>53.823453</td>\n",
              "      <td>69.637787</td>\n",
              "      <td>45.274542</td>\n",
              "      <td>0.285078</td>\n",
              "      <td>0.248681</td>\n",
              "      <td>0.289681</td>\n",
              "      <td>NaN</td>\n",
              "      <td>NaN</td>\n",
              "    </tr>\n",
              "    <tr>\n",
              "      <th>max</th>\n",
              "      <td>1.000000</td>\n",
              "      <td>885.738571</td>\n",
              "      <td>889.868884</td>\n",
              "      <td>901.274261</td>\n",
              "      <td>0.609864</td>\n",
              "      <td>0.627875</td>\n",
              "      <td>0.608243</td>\n",
              "      <td>NaN</td>\n",
              "      <td>NaN</td>\n",
              "    </tr>\n",
              "  </tbody>\n",
              "</table>\n",
              "</div>\n",
              "      <button class=\"colab-df-convert\" onclick=\"convertToInteractive('df-62d67cff-a09c-4682-9b18-95b4da16f4bb')\"\n",
              "              title=\"Convert this dataframe to an interactive table.\"\n",
              "              style=\"display:none;\">\n",
              "        \n",
              "  <svg xmlns=\"http://www.w3.org/2000/svg\" height=\"24px\"viewBox=\"0 0 24 24\"\n",
              "       width=\"24px\">\n",
              "    <path d=\"M0 0h24v24H0V0z\" fill=\"none\"/>\n",
              "    <path d=\"M18.56 5.44l.94 2.06.94-2.06 2.06-.94-2.06-.94-.94-2.06-.94 2.06-2.06.94zm-11 1L8.5 8.5l.94-2.06 2.06-.94-2.06-.94L8.5 2.5l-.94 2.06-2.06.94zm10 10l.94 2.06.94-2.06 2.06-.94-2.06-.94-.94-2.06-.94 2.06-2.06.94z\"/><path d=\"M17.41 7.96l-1.37-1.37c-.4-.4-.92-.59-1.43-.59-.52 0-1.04.2-1.43.59L10.3 9.45l-7.72 7.72c-.78.78-.78 2.05 0 2.83L4 21.41c.39.39.9.59 1.41.59.51 0 1.02-.2 1.41-.59l7.78-7.78 2.81-2.81c.8-.78.8-2.07 0-2.86zM5.41 20L4 18.59l7.72-7.72 1.47 1.35L5.41 20z\"/>\n",
              "  </svg>\n",
              "      </button>\n",
              "      \n",
              "  <style>\n",
              "    .colab-df-container {\n",
              "      display:flex;\n",
              "      flex-wrap:wrap;\n",
              "      gap: 12px;\n",
              "    }\n",
              "\n",
              "    .colab-df-convert {\n",
              "      background-color: #E8F0FE;\n",
              "      border: none;\n",
              "      border-radius: 50%;\n",
              "      cursor: pointer;\n",
              "      display: none;\n",
              "      fill: #1967D2;\n",
              "      height: 32px;\n",
              "      padding: 0 0 0 0;\n",
              "      width: 32px;\n",
              "    }\n",
              "\n",
              "    .colab-df-convert:hover {\n",
              "      background-color: #E2EBFA;\n",
              "      box-shadow: 0px 1px 2px rgba(60, 64, 67, 0.3), 0px 1px 3px 1px rgba(60, 64, 67, 0.15);\n",
              "      fill: #174EA6;\n",
              "    }\n",
              "\n",
              "    [theme=dark] .colab-df-convert {\n",
              "      background-color: #3B4455;\n",
              "      fill: #D2E3FC;\n",
              "    }\n",
              "\n",
              "    [theme=dark] .colab-df-convert:hover {\n",
              "      background-color: #434B5C;\n",
              "      box-shadow: 0px 1px 3px 1px rgba(0, 0, 0, 0.15);\n",
              "      filter: drop-shadow(0px 1px 2px rgba(0, 0, 0, 0.3));\n",
              "      fill: #FFFFFF;\n",
              "    }\n",
              "  </style>\n",
              "\n",
              "      <script>\n",
              "        const buttonEl =\n",
              "          document.querySelector('#df-62d67cff-a09c-4682-9b18-95b4da16f4bb button.colab-df-convert');\n",
              "        buttonEl.style.display =\n",
              "          google.colab.kernel.accessAllowed ? 'block' : 'none';\n",
              "\n",
              "        async function convertToInteractive(key) {\n",
              "          const element = document.querySelector('#df-62d67cff-a09c-4682-9b18-95b4da16f4bb');\n",
              "          const dataTable =\n",
              "            await google.colab.kernel.invokeFunction('convertToInteractive',\n",
              "                                                     [key], {});\n",
              "          if (!dataTable) return;\n",
              "\n",
              "          const docLinkHtml = 'Like what you see? Visit the ' +\n",
              "            '<a target=\"_blank\" href=https://colab.research.google.com/notebooks/data_table.ipynb>data table notebook</a>'\n",
              "            + ' to learn more about interactive tables.';\n",
              "          element.innerHTML = '';\n",
              "          dataTable['output_type'] = 'display_data';\n",
              "          await google.colab.output.renderOutput(dataTable, element);\n",
              "          const docLink = document.createElement('div');\n",
              "          docLink.innerHTML = docLinkHtml;\n",
              "          element.appendChild(docLink);\n",
              "        }\n",
              "      </script>\n",
              "    </div>\n",
              "  </div>\n",
              "  "
            ]
          },
          "metadata": {},
          "execution_count": 8
        }
      ],
      "source": [
        "# For more information on the dataset like the total count in all the columns of train data\n",
        "# min, max values and more information of the respective columns \n",
        "data.describe()"
      ]
    },
    {
      "cell_type": "code",
      "execution_count": 9,
      "metadata": {
        "colab": {
          "base_uri": "https://localhost:8080/"
        },
        "id": "qR_KvwfZnqDh",
        "outputId": "a02e2e50-32ad-48d9-cc48-8143424a5949"
      },
      "outputs": [
        {
          "output_type": "execute_result",
          "data": {
            "text/plain": [
              "Output (S)        0\n",
              "Ia                0\n",
              "Ib                0\n",
              "Ic                0\n",
              "Va                0\n",
              "Vb                0\n",
              "Vc                0\n",
              "Unnamed: 7    12001\n",
              "Unnamed: 8    12001\n",
              "dtype: int64"
            ]
          },
          "metadata": {},
          "execution_count": 9
        }
      ],
      "source": [
        "# Check for missing values in all the columnns of the dataset\n",
        "data.isna().sum()"
      ]
    },
    {
      "cell_type": "code",
      "execution_count": 10,
      "metadata": {
        "colab": {
          "base_uri": "https://localhost:8080/"
        },
        "id": "RHYBt6CzSn3L",
        "outputId": "f99c5c17-78de-4ba9-efcc-2deb058f4a03"
      },
      "outputs": [
        {
          "output_type": "execute_result",
          "data": {
            "text/plain": [
              "Output (S)        2\n",
              "Ia            12001\n",
              "Ib            12001\n",
              "Ic            12001\n",
              "Va            11996\n",
              "Vb            11813\n",
              "Vc            11987\n",
              "Unnamed: 7        0\n",
              "Unnamed: 8        0\n",
              "dtype: int64"
            ]
          },
          "metadata": {},
          "execution_count": 10
        }
      ],
      "source": [
        "# loop through datatset to find count of unique values of each column\n",
        "data.nunique()"
      ]
    },
    {
      "cell_type": "code",
      "execution_count": 11,
      "metadata": {
        "id": "kC38hVyv-fyX"
      },
      "outputs": [],
      "source": [
        "# drop 'Unnamed: 7','Unnamed: 8'\n",
        "data.drop(['Unnamed: 7','Unnamed: 8'],axis = 1,inplace = True)"
      ]
    },
    {
      "cell_type": "code",
      "source": [
        "data.head()"
      ],
      "metadata": {
        "colab": {
          "base_uri": "https://localhost:8080/",
          "height": 206
        },
        "id": "XccOZ3C46vZf",
        "outputId": "5061d219-06b4-4f16-f9c1-3e5c209863ac"
      },
      "execution_count": 12,
      "outputs": [
        {
          "output_type": "execute_result",
          "data": {
            "text/plain": [
              "   Output (S)          Ia        Ib          Ic        Va        Vb        Vc\n",
              "0           0 -170.472196  9.219613  161.252583  0.054490 -0.659921  0.605431\n",
              "1           0 -122.235754  6.168667  116.067087  0.102000 -0.628612  0.526202\n",
              "2           0  -90.161474  3.813632   86.347841  0.141026 -0.605277  0.464251\n",
              "3           0  -79.904916  2.398803   77.506112  0.156272 -0.602235  0.445963\n",
              "4           0  -63.885255  0.590667   63.294587  0.180451 -0.591501  0.411050"
            ],
            "text/html": [
              "\n",
              "  <div id=\"df-b066a3a2-8b92-4639-9309-c603327dcc23\">\n",
              "    <div class=\"colab-df-container\">\n",
              "      <div>\n",
              "<style scoped>\n",
              "    .dataframe tbody tr th:only-of-type {\n",
              "        vertical-align: middle;\n",
              "    }\n",
              "\n",
              "    .dataframe tbody tr th {\n",
              "        vertical-align: top;\n",
              "    }\n",
              "\n",
              "    .dataframe thead th {\n",
              "        text-align: right;\n",
              "    }\n",
              "</style>\n",
              "<table border=\"1\" class=\"dataframe\">\n",
              "  <thead>\n",
              "    <tr style=\"text-align: right;\">\n",
              "      <th></th>\n",
              "      <th>Output (S)</th>\n",
              "      <th>Ia</th>\n",
              "      <th>Ib</th>\n",
              "      <th>Ic</th>\n",
              "      <th>Va</th>\n",
              "      <th>Vb</th>\n",
              "      <th>Vc</th>\n",
              "    </tr>\n",
              "  </thead>\n",
              "  <tbody>\n",
              "    <tr>\n",
              "      <th>0</th>\n",
              "      <td>0</td>\n",
              "      <td>-170.472196</td>\n",
              "      <td>9.219613</td>\n",
              "      <td>161.252583</td>\n",
              "      <td>0.054490</td>\n",
              "      <td>-0.659921</td>\n",
              "      <td>0.605431</td>\n",
              "    </tr>\n",
              "    <tr>\n",
              "      <th>1</th>\n",
              "      <td>0</td>\n",
              "      <td>-122.235754</td>\n",
              "      <td>6.168667</td>\n",
              "      <td>116.067087</td>\n",
              "      <td>0.102000</td>\n",
              "      <td>-0.628612</td>\n",
              "      <td>0.526202</td>\n",
              "    </tr>\n",
              "    <tr>\n",
              "      <th>2</th>\n",
              "      <td>0</td>\n",
              "      <td>-90.161474</td>\n",
              "      <td>3.813632</td>\n",
              "      <td>86.347841</td>\n",
              "      <td>0.141026</td>\n",
              "      <td>-0.605277</td>\n",
              "      <td>0.464251</td>\n",
              "    </tr>\n",
              "    <tr>\n",
              "      <th>3</th>\n",
              "      <td>0</td>\n",
              "      <td>-79.904916</td>\n",
              "      <td>2.398803</td>\n",
              "      <td>77.506112</td>\n",
              "      <td>0.156272</td>\n",
              "      <td>-0.602235</td>\n",
              "      <td>0.445963</td>\n",
              "    </tr>\n",
              "    <tr>\n",
              "      <th>4</th>\n",
              "      <td>0</td>\n",
              "      <td>-63.885255</td>\n",
              "      <td>0.590667</td>\n",
              "      <td>63.294587</td>\n",
              "      <td>0.180451</td>\n",
              "      <td>-0.591501</td>\n",
              "      <td>0.411050</td>\n",
              "    </tr>\n",
              "  </tbody>\n",
              "</table>\n",
              "</div>\n",
              "      <button class=\"colab-df-convert\" onclick=\"convertToInteractive('df-b066a3a2-8b92-4639-9309-c603327dcc23')\"\n",
              "              title=\"Convert this dataframe to an interactive table.\"\n",
              "              style=\"display:none;\">\n",
              "        \n",
              "  <svg xmlns=\"http://www.w3.org/2000/svg\" height=\"24px\"viewBox=\"0 0 24 24\"\n",
              "       width=\"24px\">\n",
              "    <path d=\"M0 0h24v24H0V0z\" fill=\"none\"/>\n",
              "    <path d=\"M18.56 5.44l.94 2.06.94-2.06 2.06-.94-2.06-.94-.94-2.06-.94 2.06-2.06.94zm-11 1L8.5 8.5l.94-2.06 2.06-.94-2.06-.94L8.5 2.5l-.94 2.06-2.06.94zm10 10l.94 2.06.94-2.06 2.06-.94-2.06-.94-.94-2.06-.94 2.06-2.06.94z\"/><path d=\"M17.41 7.96l-1.37-1.37c-.4-.4-.92-.59-1.43-.59-.52 0-1.04.2-1.43.59L10.3 9.45l-7.72 7.72c-.78.78-.78 2.05 0 2.83L4 21.41c.39.39.9.59 1.41.59.51 0 1.02-.2 1.41-.59l7.78-7.78 2.81-2.81c.8-.78.8-2.07 0-2.86zM5.41 20L4 18.59l7.72-7.72 1.47 1.35L5.41 20z\"/>\n",
              "  </svg>\n",
              "      </button>\n",
              "      \n",
              "  <style>\n",
              "    .colab-df-container {\n",
              "      display:flex;\n",
              "      flex-wrap:wrap;\n",
              "      gap: 12px;\n",
              "    }\n",
              "\n",
              "    .colab-df-convert {\n",
              "      background-color: #E8F0FE;\n",
              "      border: none;\n",
              "      border-radius: 50%;\n",
              "      cursor: pointer;\n",
              "      display: none;\n",
              "      fill: #1967D2;\n",
              "      height: 32px;\n",
              "      padding: 0 0 0 0;\n",
              "      width: 32px;\n",
              "    }\n",
              "\n",
              "    .colab-df-convert:hover {\n",
              "      background-color: #E2EBFA;\n",
              "      box-shadow: 0px 1px 2px rgba(60, 64, 67, 0.3), 0px 1px 3px 1px rgba(60, 64, 67, 0.15);\n",
              "      fill: #174EA6;\n",
              "    }\n",
              "\n",
              "    [theme=dark] .colab-df-convert {\n",
              "      background-color: #3B4455;\n",
              "      fill: #D2E3FC;\n",
              "    }\n",
              "\n",
              "    [theme=dark] .colab-df-convert:hover {\n",
              "      background-color: #434B5C;\n",
              "      box-shadow: 0px 1px 3px 1px rgba(0, 0, 0, 0.15);\n",
              "      filter: drop-shadow(0px 1px 2px rgba(0, 0, 0, 0.3));\n",
              "      fill: #FFFFFF;\n",
              "    }\n",
              "  </style>\n",
              "\n",
              "      <script>\n",
              "        const buttonEl =\n",
              "          document.querySelector('#df-b066a3a2-8b92-4639-9309-c603327dcc23 button.colab-df-convert');\n",
              "        buttonEl.style.display =\n",
              "          google.colab.kernel.accessAllowed ? 'block' : 'none';\n",
              "\n",
              "        async function convertToInteractive(key) {\n",
              "          const element = document.querySelector('#df-b066a3a2-8b92-4639-9309-c603327dcc23');\n",
              "          const dataTable =\n",
              "            await google.colab.kernel.invokeFunction('convertToInteractive',\n",
              "                                                     [key], {});\n",
              "          if (!dataTable) return;\n",
              "\n",
              "          const docLinkHtml = 'Like what you see? Visit the ' +\n",
              "            '<a target=\"_blank\" href=https://colab.research.google.com/notebooks/data_table.ipynb>data table notebook</a>'\n",
              "            + ' to learn more about interactive tables.';\n",
              "          element.innerHTML = '';\n",
              "          dataTable['output_type'] = 'display_data';\n",
              "          await google.colab.output.renderOutput(dataTable, element);\n",
              "          const docLink = document.createElement('div');\n",
              "          docLink.innerHTML = docLinkHtml;\n",
              "          element.appendChild(docLink);\n",
              "        }\n",
              "      </script>\n",
              "    </div>\n",
              "  </div>\n",
              "  "
            ]
          },
          "metadata": {},
          "execution_count": 12
        }
      ]
    },
    {
      "cell_type": "code",
      "execution_count": 13,
      "metadata": {
        "colab": {
          "base_uri": "https://localhost:8080/"
        },
        "id": "Y3VNecxg-fuS",
        "outputId": "4abbe45c-92bf-4da7-9cee-bef1735739da"
      },
      "outputs": [
        {
          "output_type": "execute_result",
          "data": {
            "text/plain": [
              "0    6505\n",
              "1    5496\n",
              "Name: Output (S), dtype: int64"
            ]
          },
          "metadata": {},
          "execution_count": 13
        }
      ],
      "source": [
        "# check total number of fault and no-fault instances\n",
        "data['Output (S)'].value_counts()"
      ]
    },
    {
      "cell_type": "markdown",
      "metadata": {
        "id": "2tYBYcVMTXOe"
      },
      "source": [
        "# Correlation Matrix\n",
        "\n",
        "## Why?\n",
        "#### A correlation matrix is a table showing correlation coefficients between variables.\n",
        "\n",
        "### There are three broad reasons for computing a correlation matrix:\n",
        "\n",
        "  1. To summarize a large amount of data where the goal is to see patterns. In our example above, the observable pattern is that all the variables highly correlate with each other.\n",
        "  2. To input into other analyses. For example, people commonly use correlation matrixes as inputs for exploratory factor analysis, confirmatory factor analysis, structural equation models, and linear regression when excluding missing values pairwise.\n",
        "  3. As a diagnostic when checking other analyses. For example, with linear regression, a high amount of correlations suggests that the linear regression estimates will be unreliable."
      ]
    },
    {
      "cell_type": "code",
      "execution_count": 14,
      "metadata": {
        "colab": {
          "base_uri": "https://localhost:8080/",
          "height": 293
        },
        "id": "Txt0Rpe4CS_v",
        "outputId": "6c3949ca-fc3f-422e-a350-c140b7d019eb"
      },
      "outputs": [
        {
          "output_type": "execute_result",
          "data": {
            "text/plain": [
              "<matplotlib.axes._subplots.AxesSubplot at 0x7f119a277990>"
            ]
          },
          "metadata": {},
          "execution_count": 14
        },
        {
          "output_type": "display_data",
          "data": {
            "text/plain": [
              "<Figure size 432x288 with 2 Axes>"
            ],
            "image/png": "[encoded data removed]"
          },
          "metadata": {
            "needs_background": "light"
          }
        }
      ],
      "source": [
        "# Using pandas\n",
        "sns.heatmap(data.corr(),annot = True)"
      ]
    },
    {
      "cell_type": "markdown",
      "metadata": {
        "id": "XnEsWEEsTm-T"
      },
      "source": [
        "# Histogram\n",
        "\n",
        "1. A histogram is an approximate representation of the distribution of numerical data.\n",
        "\n",
        "2. To construct a histogram, the first step is to \"bin\" (or \"bucket\") the range of values—that is, divide the entire range of values into a series of intervals—and then count how many values fall into each interval.\n",
        "\n",
        "3. The words used to describe the patterns in a histogram are: \"symmetric\", \"skewed left\" or \"right\", \"unimodal\", \"bimodal\" or \"multimodal\"."
      ]
    },
    {
      "cell_type": "code",
      "execution_count": 15,
      "metadata": {
        "colab": {
          "base_uri": "https://localhost:8080/",
          "height": 279
        },
        "id": "IQ2N-BOlCS-X",
        "outputId": "44b71162-d10d-4c31-c250-2dc4fe02c760"
      },
      "outputs": [
        {
          "output_type": "display_data",
          "data": {
            "text/plain": [
              "<Figure size 432x288 with 7 Axes>"
            ],
            "image/png": "[encoded data removed]"
          },
          "metadata": {
            "needs_background": "light"
          }
        }
      ],
      "source": [
        "# Histogram using pandas \n",
        "for i in range(len(data.columns)):\n",
        "  plt.subplot(3,3,i+1)\n",
        "  sns.histplot(data[data.columns[i]])"
      ]
    },
    {
      "cell_type": "markdown",
      "metadata": {
        "id": "A9lQc6G_T6le"
      },
      "source": [
        "### Count plot"
      ]
    },
    {
      "cell_type": "code",
      "execution_count": 16,
      "metadata": {
        "colab": {
          "base_uri": "https://localhost:8080/",
          "height": 296
        },
        "id": "44nndj72Cjak",
        "outputId": "ae96334f-9bd7-4fc4-c424-78fab5c77eaf"
      },
      "outputs": [
        {
          "output_type": "execute_result",
          "data": {
            "text/plain": [
              "<matplotlib.axes._subplots.AxesSubplot at 0x7f11979247d0>"
            ]
          },
          "metadata": {},
          "execution_count": 16
        },
        {
          "output_type": "display_data",
          "data": {
            "text/plain": [
              "<Figure size 432x288 with 1 Axes>"
            ],
            "image/png": "[encoded data removed]"
          },
          "metadata": {
            "needs_background": "light"
          }
        }
      ],
      "source": [
        "# count plot of Output (S) column\n",
        "sns.countplot(x = 'Output (S)',data = data)"
      ]
    },
    {
      "cell_type": "markdown",
      "metadata": {
        "id": "TqaIURlaT_e2"
      },
      "source": [
        "# Box plot\n",
        "\n",
        "\n",
        "A boxplot is a standardized way of displaying the dataset based on a five-number summary:\n",
        "\n",
        "    1. Minimum (Q0 or 0th percentile): the lowest data point excluding any outliers.\n",
        "\n",
        "    2. Maximum (Q4 or 100th percentile): the largest data point excluding any outliers.\n",
        "\n",
        "    3. Median (Q2 or 50th percentile): the middle value of the dataset.\n",
        "\n",
        "    4. First quartile (Q1 or 25th percentile): also known as the lower quartile qn(0.25), is the median of the lower half of the dataset.\n",
        "\n",
        "    5. Third quartile (Q3 or 75th percentile): also known as the upper quartile qn(0.75), is the median of the upper half of the dataset"
      ]
    },
    {
      "cell_type": "code",
      "execution_count": 17,
      "metadata": {
        "colab": {
          "base_uri": "https://localhost:8080/",
          "height": 298
        },
        "id": "OwU1rU-KCjDn",
        "outputId": "49617e86-b328-46a5-aee7-7746b96334e7"
      },
      "outputs": [
        {
          "output_type": "execute_result",
          "data": {
            "text/plain": [
              "<matplotlib.axes._subplots.AxesSubplot at 0x7f119697e310>"
            ]
          },
          "metadata": {},
          "execution_count": 17
        },
        {
          "output_type": "display_data",
          "data": {
            "text/plain": [
              "<Figure size 432x288 with 1 Axes>"
            ],
            "image/png": "[encoded data removed]"
          },
          "metadata": {
            "needs_background": "light"
          }
        }
      ],
      "source": [
        "# box plot using pandas \n",
        "# box plot for Output (S) column \n",
        "data['Output (S)'].plot.box(title = 'Box plot for Output (S) column')"
      ]
    },
    {
      "cell_type": "code",
      "execution_count": 18,
      "metadata": {
        "colab": {
          "base_uri": "https://localhost:8080/",
          "height": 859
        },
        "id": "Ri4cEZKrDDk1",
        "outputId": "2bc2f387-e1b3-4057-9eaa-741d85a5f66a"
      },
      "outputs": [
        {
          "output_type": "execute_result",
          "data": {
            "text/plain": [
              "<matplotlib.axes._subplots.AxesSubplot at 0x7f119695d710>"
            ]
          },
          "metadata": {},
          "execution_count": 18
        },
        {
          "output_type": "display_data",
          "data": {
            "text/plain": [
              "<Figure size 1440x1152 with 1 Axes>"
            ],
            "image/png": "[encoded data removed]"
          },
          "metadata": {
            "needs_background": "light"
          }
        }
      ],
      "source": [
        "# box plot using pandas \n",
        "# box plot for Ia column \n",
        "plt.figure(figsize = (20,16))\n",
        "data['Ia'].plot.box()"
      ]
    },
    {
      "cell_type": "code",
      "execution_count": 19,
      "metadata": {
        "colab": {
          "base_uri": "https://localhost:8080/",
          "height": 859
        },
        "id": "iATUk1TjDDiU",
        "outputId": "398694e1-73f8-44bd-d6e5-cc2f3ee02cbd"
      },
      "outputs": [
        {
          "output_type": "execute_result",
          "data": {
            "text/plain": [
              "<matplotlib.axes._subplots.AxesSubplot at 0x7f1196bf4f90>"
            ]
          },
          "metadata": {},
          "execution_count": 19
        },
        {
          "output_type": "display_data",
          "data": {
            "text/plain": [
              "<Figure size 1440x1152 with 1 Axes>"
            ],
            "image/png": "[encoded data removed]"
          },
          "metadata": {
            "needs_background": "light"
          }
        }
      ],
      "source": [
        "# box plot using pandas \n",
        "# box plot for Ib column \n",
        "plt.figure(figsize = (20,16))\n",
        "data['Ib'].plot.box()"
      ]
    },
    {
      "cell_type": "code",
      "execution_count": 20,
      "metadata": {
        "colab": {
          "base_uri": "https://localhost:8080/",
          "height": 859
        },
        "id": "rJQv1P0hDDe2",
        "outputId": "908f4631-125a-4bfe-ce0d-3ec87418dd9d"
      },
      "outputs": [
        {
          "output_type": "execute_result",
          "data": {
            "text/plain": [
              "<matplotlib.axes._subplots.AxesSubplot at 0x7f1196b95e10>"
            ]
          },
          "metadata": {},
          "execution_count": 20
        },
        {
          "output_type": "display_data",
          "data": {
            "text/plain": [
              "<Figure size 1440x1152 with 1 Axes>"
            ],
            "image/png": "[encoded data removed]"
          },
          "metadata": {
            "needs_background": "light"
          }
        }
      ],
      "source": [
        "# box plot using pandas \n",
        "# box plot for Ic column \n",
        "plt.figure(figsize = (20,16))\n",
        "data['Ic'].plot.box()"
      ]
    },
    {
      "cell_type": "code",
      "execution_count": 21,
      "metadata": {
        "colab": {
          "base_uri": "https://localhost:8080/",
          "height": 861
        },
        "id": "26iWjxk3DDdf",
        "outputId": "9ec66c55-0b38-4c8f-b832-a034459b1c54"
      },
      "outputs": [
        {
          "output_type": "execute_result",
          "data": {
            "text/plain": [
              "<matplotlib.axes._subplots.AxesSubplot at 0x7f11973a2550>"
            ]
          },
          "metadata": {},
          "execution_count": 21
        },
        {
          "output_type": "display_data",
          "data": {
            "text/plain": [
              "<Figure size 1440x1152 with 1 Axes>"
            ],
            "image/png": "[encoded data removed]"
          },
          "metadata": {
            "needs_background": "light"
          }
        }
      ],
      "source": [
        "# box plot using pandas \n",
        "# box plot for Va column \n",
        "plt.figure(figsize = (20,16))\n",
        "data['Va'].plot.box()"
      ]
    },
    {
      "cell_type": "code",
      "execution_count": 22,
      "metadata": {
        "colab": {
          "base_uri": "https://localhost:8080/",
          "height": 861
        },
        "id": "OqafrG7oDDa8",
        "outputId": "7d66127b-3d4a-4de8-c452-4b1bfc6339c4"
      },
      "outputs": [
        {
          "output_type": "execute_result",
          "data": {
            "text/plain": [
              "<matplotlib.axes._subplots.AxesSubplot at 0x7f119727d990>"
            ]
          },
          "metadata": {},
          "execution_count": 22
        },
        {
          "output_type": "display_data",
          "data": {
            "text/plain": [
              "<Figure size 1440x1152 with 1 Axes>"
            ],
            "image/png": "[encoded data removed]"
          },
          "metadata": {
            "needs_background": "light"
          }
        }
      ],
      "source": [
        "# box plot using pandas \n",
        "# box plot for Vb column \n",
        "plt.figure(figsize = (20,16))\n",
        "data['Vb'].plot.box()"
      ]
    },
    {
      "cell_type": "code",
      "execution_count": 23,
      "metadata": {
        "colab": {
          "base_uri": "https://localhost:8080/",
          "height": 861
        },
        "id": "k0ZMrofFDDYt",
        "outputId": "33b81414-2e4a-44f9-befe-550fc46207ef"
      },
      "outputs": [
        {
          "output_type": "execute_result",
          "data": {
            "text/plain": [
              "<matplotlib.axes._subplots.AxesSubplot at 0x7f1196b20a90>"
            ]
          },
          "metadata": {},
          "execution_count": 23
        },
        {
          "output_type": "display_data",
          "data": {
            "text/plain": [
              "<Figure size 1440x1152 with 1 Axes>"
            ],
            "image/png": "[encoded data removed]"
          },
          "metadata": {
            "needs_background": "light"
          }
        }
      ],
      "source": [
        "# box plot using pandas \n",
        "# box plot for Vc column \n",
        "plt.figure(figsize = (20,16))\n",
        "data['Vc'].plot.box()"
      ]
    },
    {
      "cell_type": "markdown",
      "metadata": {
        "id": "jh9Q36xXZAeq"
      },
      "source": [
        "Dataset is balanced and not skewed in nature"
      ]
    },
    {
      "cell_type": "markdown",
      "metadata": {
        "id": "VoN41RlaUG_Y"
      },
      "source": [
        "# Dendrogram"
      ]
    },
    {
      "cell_type": "code",
      "source": [
        "data.head()"
      ],
      "metadata": {
        "colab": {
          "base_uri": "https://localhost:8080/",
          "height": 206
        },
        "id": "mFSvwy_TA-q-",
        "outputId": "77b8cb72-a582-435c-f0c7-fef57417d0bf"
      },
      "execution_count": 24,
      "outputs": [
        {
          "output_type": "execute_result",
          "data": {
            "text/plain": [
              "   Output (S)          Ia        Ib          Ic        Va        Vb        Vc\n",
              "0           0 -170.472196  9.219613  161.252583  0.054490 -0.659921  0.605431\n",
              "1           0 -122.235754  6.168667  116.067087  0.102000 -0.628612  0.526202\n",
              "2           0  -90.161474  3.813632   86.347841  0.141026 -0.605277  0.464251\n",
              "3           0  -79.904916  2.398803   77.506112  0.156272 -0.602235  0.445963\n",
              "4           0  -63.885255  0.590667   63.294587  0.180451 -0.591501  0.411050"
            ],
            "text/html": [
              "\n",
              "  <div id=\"df-eecb9cae-ff4e-401b-9678-940c87095137\">\n",
              "    <div class=\"colab-df-container\">\n",
              "      <div>\n",
              "<style scoped>\n",
              "    .dataframe tbody tr th:only-of-type {\n",
              "        vertical-align: middle;\n",
              "    }\n",
              "\n",
              "    .dataframe tbody tr th {\n",
              "        vertical-align: top;\n",
              "    }\n",
              "\n",
              "    .dataframe thead th {\n",
              "        text-align: right;\n",
              "    }\n",
              "</style>\n",
              "<table border=\"1\" class=\"dataframe\">\n",
              "  <thead>\n",
              "    <tr style=\"text-align: right;\">\n",
              "      <th></th>\n",
              "      <th>Output (S)</th>\n",
              "      <th>Ia</th>\n",
              "      <th>Ib</th>\n",
              "      <th>Ic</th>\n",
              "      <th>Va</th>\n",
              "      <th>Vb</th>\n",
              "      <th>Vc</th>\n",
              "    </tr>\n",
              "  </thead>\n",
              "  <tbody>\n",
              "    <tr>\n",
              "      <th>0</th>\n",
              "      <td>0</td>\n",
              "      <td>-170.472196</td>\n",
              "      <td>9.219613</td>\n",
              "      <td>161.252583</td>\n",
              "      <td>0.054490</td>\n",
              "      <td>-0.659921</td>\n",
              "      <td>0.605431</td>\n",
              "    </tr>\n",
              "    <tr>\n",
              "      <th>1</th>\n",
              "      <td>0</td>\n",
              "      <td>-122.235754</td>\n",
              "      <td>6.168667</td>\n",
              "      <td>116.067087</td>\n",
              "      <td>0.102000</td>\n",
              "      <td>-0.628612</td>\n",
              "      <td>0.526202</td>\n",
              "    </tr>\n",
              "    <tr>\n",
              "      <th>2</th>\n",
              "      <td>0</td>\n",
              "      <td>-90.161474</td>\n",
              "      <td>3.813632</td>\n",
              "      <td>86.347841</td>\n",
              "      <td>0.141026</td>\n",
              "      <td>-0.605277</td>\n",
              "      <td>0.464251</td>\n",
              "    </tr>\n",
              "    <tr>\n",
              "      <th>3</th>\n",
              "      <td>0</td>\n",
              "      <td>-79.904916</td>\n",
              "      <td>2.398803</td>\n",
              "      <td>77.506112</td>\n",
              "      <td>0.156272</td>\n",
              "      <td>-0.602235</td>\n",
              "      <td>0.445963</td>\n",
              "    </tr>\n",
              "    <tr>\n",
              "      <th>4</th>\n",
              "      <td>0</td>\n",
              "      <td>-63.885255</td>\n",
              "      <td>0.590667</td>\n",
              "      <td>63.294587</td>\n",
              "      <td>0.180451</td>\n",
              "      <td>-0.591501</td>\n",
              "      <td>0.411050</td>\n",
              "    </tr>\n",
              "  </tbody>\n",
              "</table>\n",
              "</div>\n",
              "      <button class=\"colab-df-convert\" onclick=\"convertToInteractive('df-eecb9cae-ff4e-401b-9678-940c87095137')\"\n",
              "              title=\"Convert this dataframe to an interactive table.\"\n",
              "              style=\"display:none;\">\n",
              "        \n",
              "  <svg xmlns=\"http://www.w3.org/2000/svg\" height=\"24px\"viewBox=\"0 0 24 24\"\n",
              "       width=\"24px\">\n",
              "    <path d=\"M0 0h24v24H0V0z\" fill=\"none\"/>\n",
              "    <path d=\"M18.56 5.44l.94 2.06.94-2.06 2.06-.94-2.06-.94-.94-2.06-.94 2.06-2.06.94zm-11 1L8.5 8.5l.94-2.06 2.06-.94-2.06-.94L8.5 2.5l-.94 2.06-2.06.94zm10 10l.94 2.06.94-2.06 2.06-.94-2.06-.94-.94-2.06-.94 2.06-2.06.94z\"/><path d=\"M17.41 7.96l-1.37-1.37c-.4-.4-.92-.59-1.43-.59-.52 0-1.04.2-1.43.59L10.3 9.45l-7.72 7.72c-.78.78-.78 2.05 0 2.83L4 21.41c.39.39.9.59 1.41.59.51 0 1.02-.2 1.41-.59l7.78-7.78 2.81-2.81c.8-.78.8-2.07 0-2.86zM5.41 20L4 18.59l7.72-7.72 1.47 1.35L5.41 20z\"/>\n",
              "  </svg>\n",
              "      </button>\n",
              "      \n",
              "  <style>\n",
              "    .colab-df-container {\n",
              "      display:flex;\n",
              "      flex-wrap:wrap;\n",
              "      gap: 12px;\n",
              "    }\n",
              "\n",
              "    .colab-df-convert {\n",
              "      background-color: #E8F0FE;\n",
              "      border: none;\n",
              "      border-radius: 50%;\n",
              "      cursor: pointer;\n",
              "      display: none;\n",
              "      fill: #1967D2;\n",
              "      height: 32px;\n",
              "      padding: 0 0 0 0;\n",
              "      width: 32px;\n",
              "    }\n",
              "\n",
              "    .colab-df-convert:hover {\n",
              "      background-color: #E2EBFA;\n",
              "      box-shadow: 0px 1px 2px rgba(60, 64, 67, 0.3), 0px 1px 3px 1px rgba(60, 64, 67, 0.15);\n",
              "      fill: #174EA6;\n",
              "    }\n",
              "\n",
              "    [theme=dark] .colab-df-convert {\n",
              "      background-color: #3B4455;\n",
              "      fill: #D2E3FC;\n",
              "    }\n",
              "\n",
              "    [theme=dark] .colab-df-convert:hover {\n",
              "      background-color: #434B5C;\n",
              "      box-shadow: 0px 1px 3px 1px rgba(0, 0, 0, 0.15);\n",
              "      filter: drop-shadow(0px 1px 2px rgba(0, 0, 0, 0.3));\n",
              "      fill: #FFFFFF;\n",
              "    }\n",
              "  </style>\n",
              "\n",
              "      <script>\n",
              "        const buttonEl =\n",
              "          document.querySelector('#df-eecb9cae-ff4e-401b-9678-940c87095137 button.colab-df-convert');\n",
              "        buttonEl.style.display =\n",
              "          google.colab.kernel.accessAllowed ? 'block' : 'none';\n",
              "\n",
              "        async function convertToInteractive(key) {\n",
              "          const element = document.querySelector('#df-eecb9cae-ff4e-401b-9678-940c87095137');\n",
              "          const dataTable =\n",
              "            await google.colab.kernel.invokeFunction('convertToInteractive',\n",
              "                                                     [key], {});\n",
              "          if (!dataTable) return;\n",
              "\n",
              "          const docLinkHtml = 'Like what you see? Visit the ' +\n",
              "            '<a target=\"_blank\" href=https://colab.research.google.com/notebooks/data_table.ipynb>data table notebook</a>'\n",
              "            + ' to learn more about interactive tables.';\n",
              "          element.innerHTML = '';\n",
              "          dataTable['output_type'] = 'display_data';\n",
              "          await google.colab.output.renderOutput(dataTable, element);\n",
              "          const docLink = document.createElement('div');\n",
              "          docLink.innerHTML = docLinkHtml;\n",
              "          element.appendChild(docLink);\n",
              "        }\n",
              "      </script>\n",
              "    </div>\n",
              "  </div>\n",
              "  "
            ]
          },
          "metadata": {},
          "execution_count": 24
        }
      ]
    },
    {
      "cell_type": "code",
      "execution_count": 25,
      "metadata": {
        "colab": {
          "base_uri": "https://localhost:8080/",
          "height": 271
        },
        "id": "_r5MsTqWDDU-",
        "outputId": "162264c9-0bc0-4079-8a2a-94b7e59ce313"
      },
      "outputs": [
        {
          "output_type": "display_data",
          "data": {
            "text/plain": [
              "<Figure size 432x288 with 1 Axes>"
            ],
            "image/png": "[encoded data removed]"
          },
          "metadata": {
            "needs_background": "light"
          }
        }
      ],
      "source": [
        "# Plot a Dendrogram on the columns of the dataset\n",
        "# droping the NaN values\n",
        "from scipy.cluster import hierarchy\n",
        "correlation_matrix = data.corr(method = 'pearson')\n",
        "dendrogram = hierarchy.dendrogram(hierarchy.linkage(correlation_matrix,method = 'average'),)\n",
        "plt.show()"
      ]
    },
    {
      "cell_type": "markdown",
      "metadata": {
        "id": "iNvxoKcNUX3H"
      },
      "source": [
        "# Preprocessing, Modeling and prediction on test data"
      ]
    },
    {
      "cell_type": "code",
      "execution_count": 26,
      "metadata": {
        "colab": {
          "base_uri": "https://localhost:8080/"
        },
        "id": "all5bN2N-fou",
        "outputId": "9ba012cf-eeea-4f5d-95b8-52191912cecc"
      },
      "outputs": [
        {
          "output_type": "stream",
          "name": "stdout",
          "text": [
            "THe shape of Features matrix/Data Frame is  (12001, 6)\n",
            "The shape of the Target dataframe is  (12001,)\n"
          ]
        }
      ],
      "source": [
        "## Split the labels and the target\n",
        "x = data.drop('Output (S)',axis = 1)\n",
        "y = data['Output (S)']\n",
        "#check the shape \n",
        "print('THe shape of Features matrix/Data Frame is ',x.shape)\n",
        "print('The shape of the Target dataframe is ',y.shape)"
      ]
    },
    {
      "cell_type": "code",
      "execution_count": 27,
      "metadata": {
        "colab": {
          "base_uri": "https://localhost:8080/"
        },
        "id": "6-r_W-3k-flM",
        "outputId": "bddb9e11-d0b3-4cf6-d01a-353d926107a0"
      },
      "outputs": [
        {
          "output_type": "stream",
          "name": "stdout",
          "text": [
            "The size of training set is  (9600, 6) (9600,)\n",
            "The size of testing set is  (2401, 6) (2401,)\n"
          ]
        }
      ],
      "source": [
        "# import train test split\n",
        "from sklearn.model_selection import train_test_split\n",
        "# Split into training (80%) and testing set (20%)\n",
        "x_train,x_test,y_train,y_test = train_test_split(x,y,test_size = 0.2)\n",
        "# check shape of X_train and y_train\n",
        "print('The size of training set is ',x_train.shape,y_train.shape)\n",
        "# check shape of X_test and y_test\n",
        "print('The size of testing set is ',x_test.shape,y_test.shape)"
      ]
    },
    {
      "cell_type": "code",
      "source": [
        "x_train"
      ],
      "metadata": {
        "colab": {
          "base_uri": "https://localhost:8080/",
          "height": 424
        },
        "id": "zkkRuzBLdUTQ",
        "outputId": "8b9512f8-0681-4d7c-b737-47a07b3b9997"
      },
      "execution_count": 28,
      "outputs": [
        {
          "output_type": "execute_result",
          "data": {
            "text/plain": [
              "               Ia          Ib          Ic        Va        Vb        Vc\n",
              "4348   -66.328268   58.826793   10.196755 -0.336024 -0.271272  0.607296\n",
              "4240    22.642934   43.468025  -63.387542 -0.467717  0.573506 -0.105789\n",
              "5475   -10.101778 -644.905388  657.300406 -0.402039 -0.020743  0.422782\n",
              "2847   -98.429933  811.598437   54.324391  0.035060 -0.200225  0.165165\n",
              "1779    60.570473  -24.541375  -38.215608  0.053363  0.495283 -0.548647\n",
              "...           ...         ...         ...       ...       ...       ...\n",
              "9543   872.482682 -412.709525  -10.962331  0.021500 -0.292238  0.270738\n",
              "6014   -55.513301    9.174614   48.635366  0.260791 -0.595314  0.334523\n",
              "2695   668.341377 -847.788207  -26.129972 -0.008864 -0.072605  0.081469\n",
              "6570  -703.012103  -74.688963  779.878194 -0.017158  0.029459 -0.012301\n",
              "10952   52.189812  -13.202308  -42.158894  0.284734  0.327459 -0.612193\n",
              "\n",
              "[9600 rows x 6 columns]"
            ],
            "text/html": [
              "\n",
              "  <div id=\"df-9c6a697d-7449-47d0-bffc-45a1fb023fdb\">\n",
              "    <div class=\"colab-df-container\">\n",
              "      <div>\n",
              "<style scoped>\n",
              "    .dataframe tbody tr th:only-of-type {\n",
              "        vertical-align: middle;\n",
              "    }\n",
              "\n",
              "    .dataframe tbody tr th {\n",
              "        vertical-align: top;\n",
              "    }\n",
              "\n",
              "    .dataframe thead th {\n",
              "        text-align: right;\n",
              "    }\n",
              "</style>\n",
              "<table border=\"1\" class=\"dataframe\">\n",
              "  <thead>\n",
              "    <tr style=\"text-align: right;\">\n",
              "      <th></th>\n",
              "      <th>Ia</th>\n",
              "      <th>Ib</th>\n",
              "      <th>Ic</th>\n",
              "      <th>Va</th>\n",
              "      <th>Vb</th>\n",
              "      <th>Vc</th>\n",
              "    </tr>\n",
              "  </thead>\n",
              "  <tbody>\n",
              "    <tr>\n",
              "      <th>4348</th>\n",
              "      <td>-66.328268</td>\n",
              "      <td>58.826793</td>\n",
              "      <td>10.196755</td>\n",
              "      <td>-0.336024</td>\n",
              "      <td>-0.271272</td>\n",
              "      <td>0.607296</td>\n",
              "    </tr>\n",
              "    <tr>\n",
              "      <th>4240</th>\n",
              "      <td>22.642934</td>\n",
              "      <td>43.468025</td>\n",
              "      <td>-63.387542</td>\n",
              "      <td>-0.467717</td>\n",
              "      <td>0.573506</td>\n",
              "      <td>-0.105789</td>\n",
              "    </tr>\n",
              "    <tr>\n",
              "      <th>5475</th>\n",
              "      <td>-10.101778</td>\n",
              "      <td>-644.905388</td>\n",
              "      <td>657.300406</td>\n",
              "      <td>-0.402039</td>\n",
              "      <td>-0.020743</td>\n",
              "      <td>0.422782</td>\n",
              "    </tr>\n",
              "    <tr>\n",
              "      <th>2847</th>\n",
              "      <td>-98.429933</td>\n",
              "      <td>811.598437</td>\n",
              "      <td>54.324391</td>\n",
              "      <td>0.035060</td>\n",
              "      <td>-0.200225</td>\n",
              "      <td>0.165165</td>\n",
              "    </tr>\n",
              "    <tr>\n",
              "      <th>1779</th>\n",
              "      <td>60.570473</td>\n",
              "      <td>-24.541375</td>\n",
              "      <td>-38.215608</td>\n",
              "      <td>0.053363</td>\n",
              "      <td>0.495283</td>\n",
              "      <td>-0.548647</td>\n",
              "    </tr>\n",
              "    <tr>\n",
              "      <th>...</th>\n",
              "      <td>...</td>\n",
              "      <td>...</td>\n",
              "      <td>...</td>\n",
              "      <td>...</td>\n",
              "      <td>...</td>\n",
              "      <td>...</td>\n",
              "    </tr>\n",
              "    <tr>\n",
              "      <th>9543</th>\n",
              "      <td>872.482682</td>\n",
              "      <td>-412.709525</td>\n",
              "      <td>-10.962331</td>\n",
              "      <td>0.021500</td>\n",
              "      <td>-0.292238</td>\n",
              "      <td>0.270738</td>\n",
              "    </tr>\n",
              "    <tr>\n",
              "      <th>6014</th>\n",
              "      <td>-55.513301</td>\n",
              "      <td>9.174614</td>\n",
              "      <td>48.635366</td>\n",
              "      <td>0.260791</td>\n",
              "      <td>-0.595314</td>\n",
              "      <td>0.334523</td>\n",
              "    </tr>\n",
              "    <tr>\n",
              "      <th>2695</th>\n",
              "      <td>668.341377</td>\n",
              "      <td>-847.788207</td>\n",
              "      <td>-26.129972</td>\n",
              "      <td>-0.008864</td>\n",
              "      <td>-0.072605</td>\n",
              "      <td>0.081469</td>\n",
              "    </tr>\n",
              "    <tr>\n",
              "      <th>6570</th>\n",
              "      <td>-703.012103</td>\n",
              "      <td>-74.688963</td>\n",
              "      <td>779.878194</td>\n",
              "      <td>-0.017158</td>\n",
              "      <td>0.029459</td>\n",
              "      <td>-0.012301</td>\n",
              "    </tr>\n",
              "    <tr>\n",
              "      <th>10952</th>\n",
              "      <td>52.189812</td>\n",
              "      <td>-13.202308</td>\n",
              "      <td>-42.158894</td>\n",
              "      <td>0.284734</td>\n",
              "      <td>0.327459</td>\n",
              "      <td>-0.612193</td>\n",
              "    </tr>\n",
              "  </tbody>\n",
              "</table>\n",
              "<p>9600 rows × 6 columns</p>\n",
              "</div>\n",
              "      <button class=\"colab-df-convert\" onclick=\"convertToInteractive('df-9c6a697d-7449-47d0-bffc-45a1fb023fdb')\"\n",
              "              title=\"Convert this dataframe to an interactive table.\"\n",
              "              style=\"display:none;\">\n",
              "        \n",
              "  <svg xmlns=\"http://www.w3.org/2000/svg\" height=\"24px\"viewBox=\"0 0 24 24\"\n",
              "       width=\"24px\">\n",
              "    <path d=\"M0 0h24v24H0V0z\" fill=\"none\"/>\n",
              "    <path d=\"M18.56 5.44l.94 2.06.94-2.06 2.06-.94-2.06-.94-.94-2.06-.94 2.06-2.06.94zm-11 1L8.5 8.5l.94-2.06 2.06-.94-2.06-.94L8.5 2.5l-.94 2.06-2.06.94zm10 10l.94 2.06.94-2.06 2.06-.94-2.06-.94-.94-2.06-.94 2.06-2.06.94z\"/><path d=\"M17.41 7.96l-1.37-1.37c-.4-.4-.92-.59-1.43-.59-.52 0-1.04.2-1.43.59L10.3 9.45l-7.72 7.72c-.78.78-.78 2.05 0 2.83L4 21.41c.39.39.9.59 1.41.59.51 0 1.02-.2 1.41-.59l7.78-7.78 2.81-2.81c.8-.78.8-2.07 0-2.86zM5.41 20L4 18.59l7.72-7.72 1.47 1.35L5.41 20z\"/>\n",
              "  </svg>\n",
              "      </button>\n",
              "      \n",
              "  <style>\n",
              "    .colab-df-container {\n",
              "      display:flex;\n",
              "      flex-wrap:wrap;\n",
              "      gap: 12px;\n",
              "    }\n",
              "\n",
              "    .colab-df-convert {\n",
              "      background-color: #E8F0FE;\n",
              "      border: none;\n",
              "      border-radius: 50%;\n",
              "      cursor: pointer;\n",
              "      display: none;\n",
              "      fill: #1967D2;\n",
              "      height: 32px;\n",
              "      padding: 0 0 0 0;\n",
              "      width: 32px;\n",
              "    }\n",
              "\n",
              "    .colab-df-convert:hover {\n",
              "      background-color: #E2EBFA;\n",
              "      box-shadow: 0px 1px 2px rgba(60, 64, 67, 0.3), 0px 1px 3px 1px rgba(60, 64, 67, 0.15);\n",
              "      fill: #174EA6;\n",
              "    }\n",
              "\n",
              "    [theme=dark] .colab-df-convert {\n",
              "      background-color: #3B4455;\n",
              "      fill: #D2E3FC;\n",
              "    }\n",
              "\n",
              "    [theme=dark] .colab-df-convert:hover {\n",
              "      background-color: #434B5C;\n",
              "      box-shadow: 0px 1px 3px 1px rgba(0, 0, 0, 0.15);\n",
              "      filter: drop-shadow(0px 1px 2px rgba(0, 0, 0, 0.3));\n",
              "      fill: #FFFFFF;\n",
              "    }\n",
              "  </style>\n",
              "\n",
              "      <script>\n",
              "        const buttonEl =\n",
              "          document.querySelector('#df-9c6a697d-7449-47d0-bffc-45a1fb023fdb button.colab-df-convert');\n",
              "        buttonEl.style.display =\n",
              "          google.colab.kernel.accessAllowed ? 'block' : 'none';\n",
              "\n",
              "        async function convertToInteractive(key) {\n",
              "          const element = document.querySelector('#df-9c6a697d-7449-47d0-bffc-45a1fb023fdb');\n",
              "          const dataTable =\n",
              "            await google.colab.kernel.invokeFunction('convertToInteractive',\n",
              "                                                     [key], {});\n",
              "          if (!dataTable) return;\n",
              "\n",
              "          const docLinkHtml = 'Like what you see? Visit the ' +\n",
              "            '<a target=\"_blank\" href=https://colab.research.google.com/notebooks/data_table.ipynb>data table notebook</a>'\n",
              "            + ' to learn more about interactive tables.';\n",
              "          element.innerHTML = '';\n",
              "          dataTable['output_type'] = 'display_data';\n",
              "          await google.colab.output.renderOutput(dataTable, element);\n",
              "          const docLink = document.createElement('div');\n",
              "          docLink.innerHTML = docLinkHtml;\n",
              "          element.appendChild(docLink);\n",
              "        }\n",
              "      </script>\n",
              "    </div>\n",
              "  </div>\n",
              "  "
            ]
          },
          "metadata": {},
          "execution_count": 28
        }
      ]
    },
    {
      "cell_type": "code",
      "source": [
        "cols_train = x_train.columns\n",
        "cols_test = x_test.columns"
      ],
      "metadata": {
        "id": "ifGGUw4QkInl"
      },
      "execution_count": 29,
      "outputs": []
    },
    {
      "cell_type": "markdown",
      "metadata": {
        "id": "JZ5YmmuoUk_8"
      },
      "source": [
        "### Scaling"
      ]
    },
    {
      "cell_type": "code",
      "execution_count": 30,
      "metadata": {
        "id": "HQmvIGL8-fj_"
      },
      "outputs": [],
      "source": [
        "# import min max scalar\n",
        "from sklearn.preprocessing import MinMaxScaler\n",
        "\n",
        "# Instantiate t\n",
        "minmax = MinMaxScaler()\n",
        "\n",
        "# fit on train data\n",
        "x_train = minmax.fit_transform(x_train)\n",
        "\n",
        "\n",
        "# fit on test data\n",
        "x_test = minmax.fit_transform(x_test)"
      ]
    },
    {
      "cell_type": "code",
      "source": [
        "x_train = pd.DataFrame(x_train,columns = cols_train)\n",
        "x_test = pd.DataFrame(x_test,columns = cols_test)"
      ],
      "metadata": {
        "id": "y0e-a-esdMuv"
      },
      "execution_count": 31,
      "outputs": []
    },
    {
      "cell_type": "code",
      "source": [
        "x_train.head()"
      ],
      "metadata": {
        "colab": {
          "base_uri": "https://localhost:8080/",
          "height": 206
        },
        "id": "OjSXcLROpDVk",
        "outputId": "05b9c650-9289-413c-80ae-75f3fe2327c3"
      },
      "execution_count": 32,
      "outputs": [
        {
          "output_type": "execute_result",
          "data": {
            "text/plain": [
              "         Ia        Ib        Ic        Va        Vb        Vc\n",
              "0  0.461891  0.535833  0.500694  0.231377  0.301814  0.999225\n",
              "1  0.512177  0.527255  0.459462  0.124358  0.957845  0.415185\n",
              "2  0.493670  0.142774  0.863292  0.177731  0.496368  0.848101\n",
              "3  0.443747  0.956283  0.525420  0.532932  0.356987  0.637105\n",
              "4  0.533614  0.489269  0.473567  0.547807  0.897099  0.052469"
            ],
            "text/html": [
              "\n",
              "  <div id=\"df-7a724065-b464-4bee-9f1b-129d0f60178a\">\n",
              "    <div class=\"colab-df-container\">\n",
              "      <div>\n",
              "<style scoped>\n",
              "    .dataframe tbody tr th:only-of-type {\n",
              "        vertical-align: middle;\n",
              "    }\n",
              "\n",
              "    .dataframe tbody tr th {\n",
              "        vertical-align: top;\n",
              "    }\n",
              "\n",
              "    .dataframe thead th {\n",
              "        text-align: right;\n",
              "    }\n",
              "</style>\n",
              "<table border=\"1\" class=\"dataframe\">\n",
              "  <thead>\n",
              "    <tr style=\"text-align: right;\">\n",
              "      <th></th>\n",
              "      <th>Ia</th>\n",
              "      <th>Ib</th>\n",
              "      <th>Ic</th>\n",
              "      <th>Va</th>\n",
              "      <th>Vb</th>\n",
              "      <th>Vc</th>\n",
              "    </tr>\n",
              "  </thead>\n",
              "  <tbody>\n",
              "    <tr>\n",
              "      <th>0</th>\n",
              "      <td>0.461891</td>\n",
              "      <td>0.535833</td>\n",
              "      <td>0.500694</td>\n",
              "      <td>0.231377</td>\n",
              "      <td>0.301814</td>\n",
              "      <td>0.999225</td>\n",
              "    </tr>\n",
              "    <tr>\n",
              "      <th>1</th>\n",
              "      <td>0.512177</td>\n",
              "      <td>0.527255</td>\n",
              "      <td>0.459462</td>\n",
              "      <td>0.124358</td>\n",
              "      <td>0.957845</td>\n",
              "      <td>0.415185</td>\n",
              "    </tr>\n",
              "    <tr>\n",
              "      <th>2</th>\n",
              "      <td>0.493670</td>\n",
              "      <td>0.142774</td>\n",
              "      <td>0.863292</td>\n",
              "      <td>0.177731</td>\n",
              "      <td>0.496368</td>\n",
              "      <td>0.848101</td>\n",
              "    </tr>\n",
              "    <tr>\n",
              "      <th>3</th>\n",
              "      <td>0.443747</td>\n",
              "      <td>0.956283</td>\n",
              "      <td>0.525420</td>\n",
              "      <td>0.532932</td>\n",
              "      <td>0.356987</td>\n",
              "      <td>0.637105</td>\n",
              "    </tr>\n",
              "    <tr>\n",
              "      <th>4</th>\n",
              "      <td>0.533614</td>\n",
              "      <td>0.489269</td>\n",
              "      <td>0.473567</td>\n",
              "      <td>0.547807</td>\n",
              "      <td>0.897099</td>\n",
              "      <td>0.052469</td>\n",
              "    </tr>\n",
              "  </tbody>\n",
              "</table>\n",
              "</div>\n",
              "      <button class=\"colab-df-convert\" onclick=\"convertToInteractive('df-7a724065-b464-4bee-9f1b-129d0f60178a')\"\n",
              "              title=\"Convert this dataframe to an interactive table.\"\n",
              "              style=\"display:none;\">\n",
              "        \n",
              "  <svg xmlns=\"http://www.w3.org/2000/svg\" height=\"24px\"viewBox=\"0 0 24 24\"\n",
              "       width=\"24px\">\n",
              "    <path d=\"M0 0h24v24H0V0z\" fill=\"none\"/>\n",
              "    <path d=\"M18.56 5.44l.94 2.06.94-2.06 2.06-.94-2.06-.94-.94-2.06-.94 2.06-2.06.94zm-11 1L8.5 8.5l.94-2.06 2.06-.94-2.06-.94L8.5 2.5l-.94 2.06-2.06.94zm10 10l.94 2.06.94-2.06 2.06-.94-2.06-.94-.94-2.06-.94 2.06-2.06.94z\"/><path d=\"M17.41 7.96l-1.37-1.37c-.4-.4-.92-.59-1.43-.59-.52 0-1.04.2-1.43.59L10.3 9.45l-7.72 7.72c-.78.78-.78 2.05 0 2.83L4 21.41c.39.39.9.59 1.41.59.51 0 1.02-.2 1.41-.59l7.78-7.78 2.81-2.81c.8-.78.8-2.07 0-2.86zM5.41 20L4 18.59l7.72-7.72 1.47 1.35L5.41 20z\"/>\n",
              "  </svg>\n",
              "      </button>\n",
              "      \n",
              "  <style>\n",
              "    .colab-df-container {\n",
              "      display:flex;\n",
              "      flex-wrap:wrap;\n",
              "      gap: 12px;\n",
              "    }\n",
              "\n",
              "    .colab-df-convert {\n",
              "      background-color: #E8F0FE;\n",
              "      border: none;\n",
              "      border-radius: 50%;\n",
              "      cursor: pointer;\n",
              "      display: none;\n",
              "      fill: #1967D2;\n",
              "      height: 32px;\n",
              "      padding: 0 0 0 0;\n",
              "      width: 32px;\n",
              "    }\n",
              "\n",
              "    .colab-df-convert:hover {\n",
              "      background-color: #E2EBFA;\n",
              "      box-shadow: 0px 1px 2px rgba(60, 64, 67, 0.3), 0px 1px 3px 1px rgba(60, 64, 67, 0.15);\n",
              "      fill: #174EA6;\n",
              "    }\n",
              "\n",
              "    [theme=dark] .colab-df-convert {\n",
              "      background-color: #3B4455;\n",
              "      fill: #D2E3FC;\n",
              "    }\n",
              "\n",
              "    [theme=dark] .colab-df-convert:hover {\n",
              "      background-color: #434B5C;\n",
              "      box-shadow: 0px 1px 3px 1px rgba(0, 0, 0, 0.15);\n",
              "      filter: drop-shadow(0px 1px 2px rgba(0, 0, 0, 0.3));\n",
              "      fill: #FFFFFF;\n",
              "    }\n",
              "  </style>\n",
              "\n",
              "      <script>\n",
              "        const buttonEl =\n",
              "          document.querySelector('#df-7a724065-b464-4bee-9f1b-129d0f60178a button.colab-df-convert');\n",
              "        buttonEl.style.display =\n",
              "          google.colab.kernel.accessAllowed ? 'block' : 'none';\n",
              "\n",
              "        async function convertToInteractive(key) {\n",
              "          const element = document.querySelector('#df-7a724065-b464-4bee-9f1b-129d0f60178a');\n",
              "          const dataTable =\n",
              "            await google.colab.kernel.invokeFunction('convertToInteractive',\n",
              "                                                     [key], {});\n",
              "          if (!dataTable) return;\n",
              "\n",
              "          const docLinkHtml = 'Like what you see? Visit the ' +\n",
              "            '<a target=\"_blank\" href=https://colab.research.google.com/notebooks/data_table.ipynb>data table notebook</a>'\n",
              "            + ' to learn more about interactive tables.';\n",
              "          element.innerHTML = '';\n",
              "          dataTable['output_type'] = 'display_data';\n",
              "          await google.colab.output.renderOutput(dataTable, element);\n",
              "          const docLink = document.createElement('div');\n",
              "          docLink.innerHTML = docLinkHtml;\n",
              "          element.appendChild(docLink);\n",
              "        }\n",
              "      </script>\n",
              "    </div>\n",
              "  </div>\n",
              "  "
            ]
          },
          "metadata": {},
          "execution_count": 32
        }
      ]
    },
    {
      "cell_type": "code",
      "source": [
        "x_test.head()"
      ],
      "metadata": {
        "colab": {
          "base_uri": "https://localhost:8080/",
          "height": 206
        },
        "id": "b0_KKPFGpGI8",
        "outputId": "260803f4-0404-43df-e0f5-81ae2ba1823e"
      },
      "execution_count": 33,
      "outputs": [
        {
          "output_type": "execute_result",
          "data": {
            "text/plain": [
              "         Ia        Ib        Ic        Va        Vb        Vc\n",
              "0  0.213443  0.286607  0.995567  0.477591  0.510625  0.509379\n",
              "1  0.503157  0.530166  0.461929  0.044035  0.874947  0.577294\n",
              "2  0.019637  0.481098  0.487035  0.471798  0.773301  0.249314\n",
              "3  0.951718  0.462717  0.088023  0.531538  0.460273  0.506011\n",
              "4  0.401315  0.133966  0.462756  0.470871  0.725714  0.298419"
            ],
            "text/html": [
              "\n",
              "  <div id=\"df-23c3577a-f1ee-4aab-bcfb-295ebd8e424b\">\n",
              "    <div class=\"colab-df-container\">\n",
              "      <div>\n",
              "<style scoped>\n",
              "    .dataframe tbody tr th:only-of-type {\n",
              "        vertical-align: middle;\n",
              "    }\n",
              "\n",
              "    .dataframe tbody tr th {\n",
              "        vertical-align: top;\n",
              "    }\n",
              "\n",
              "    .dataframe thead th {\n",
              "        text-align: right;\n",
              "    }\n",
              "</style>\n",
              "<table border=\"1\" class=\"dataframe\">\n",
              "  <thead>\n",
              "    <tr style=\"text-align: right;\">\n",
              "      <th></th>\n",
              "      <th>Ia</th>\n",
              "      <th>Ib</th>\n",
              "      <th>Ic</th>\n",
              "      <th>Va</th>\n",
              "      <th>Vb</th>\n",
              "      <th>Vc</th>\n",
              "    </tr>\n",
              "  </thead>\n",
              "  <tbody>\n",
              "    <tr>\n",
              "      <th>0</th>\n",
              "      <td>0.213443</td>\n",
              "      <td>0.286607</td>\n",
              "      <td>0.995567</td>\n",
              "      <td>0.477591</td>\n",
              "      <td>0.510625</td>\n",
              "      <td>0.509379</td>\n",
              "    </tr>\n",
              "    <tr>\n",
              "      <th>1</th>\n",
              "      <td>0.503157</td>\n",
              "      <td>0.530166</td>\n",
              "      <td>0.461929</td>\n",
              "      <td>0.044035</td>\n",
              "      <td>0.874947</td>\n",
              "      <td>0.577294</td>\n",
              "    </tr>\n",
              "    <tr>\n",
              "      <th>2</th>\n",
              "      <td>0.019637</td>\n",
              "      <td>0.481098</td>\n",
              "      <td>0.487035</td>\n",
              "      <td>0.471798</td>\n",
              "      <td>0.773301</td>\n",
              "      <td>0.249314</td>\n",
              "    </tr>\n",
              "    <tr>\n",
              "      <th>3</th>\n",
              "      <td>0.951718</td>\n",
              "      <td>0.462717</td>\n",
              "      <td>0.088023</td>\n",
              "      <td>0.531538</td>\n",
              "      <td>0.460273</td>\n",
              "      <td>0.506011</td>\n",
              "    </tr>\n",
              "    <tr>\n",
              "      <th>4</th>\n",
              "      <td>0.401315</td>\n",
              "      <td>0.133966</td>\n",
              "      <td>0.462756</td>\n",
              "      <td>0.470871</td>\n",
              "      <td>0.725714</td>\n",
              "      <td>0.298419</td>\n",
              "    </tr>\n",
              "  </tbody>\n",
              "</table>\n",
              "</div>\n",
              "      <button class=\"colab-df-convert\" onclick=\"convertToInteractive('df-23c3577a-f1ee-4aab-bcfb-295ebd8e424b')\"\n",
              "              title=\"Convert this dataframe to an interactive table.\"\n",
              "              style=\"display:none;\">\n",
              "        \n",
              "  <svg xmlns=\"http://www.w3.org/2000/svg\" height=\"24px\"viewBox=\"0 0 24 24\"\n",
              "       width=\"24px\">\n",
              "    <path d=\"M0 0h24v24H0V0z\" fill=\"none\"/>\n",
              "    <path d=\"M18.56 5.44l.94 2.06.94-2.06 2.06-.94-2.06-.94-.94-2.06-.94 2.06-2.06.94zm-11 1L8.5 8.5l.94-2.06 2.06-.94-2.06-.94L8.5 2.5l-.94 2.06-2.06.94zm10 10l.94 2.06.94-2.06 2.06-.94-2.06-.94-.94-2.06-.94 2.06-2.06.94z\"/><path d=\"M17.41 7.96l-1.37-1.37c-.4-.4-.92-.59-1.43-.59-.52 0-1.04.2-1.43.59L10.3 9.45l-7.72 7.72c-.78.78-.78 2.05 0 2.83L4 21.41c.39.39.9.59 1.41.59.51 0 1.02-.2 1.41-.59l7.78-7.78 2.81-2.81c.8-.78.8-2.07 0-2.86zM5.41 20L4 18.59l7.72-7.72 1.47 1.35L5.41 20z\"/>\n",
              "  </svg>\n",
              "      </button>\n",
              "      \n",
              "  <style>\n",
              "    .colab-df-container {\n",
              "      display:flex;\n",
              "      flex-wrap:wrap;\n",
              "      gap: 12px;\n",
              "    }\n",
              "\n",
              "    .colab-df-convert {\n",
              "      background-color: #E8F0FE;\n",
              "      border: none;\n",
              "      border-radius: 50%;\n",
              "      cursor: pointer;\n",
              "      display: none;\n",
              "      fill: #1967D2;\n",
              "      height: 32px;\n",
              "      padding: 0 0 0 0;\n",
              "      width: 32px;\n",
              "    }\n",
              "\n",
              "    .colab-df-convert:hover {\n",
              "      background-color: #E2EBFA;\n",
              "      box-shadow: 0px 1px 2px rgba(60, 64, 67, 0.3), 0px 1px 3px 1px rgba(60, 64, 67, 0.15);\n",
              "      fill: #174EA6;\n",
              "    }\n",
              "\n",
              "    [theme=dark] .colab-df-convert {\n",
              "      background-color: #3B4455;\n",
              "      fill: #D2E3FC;\n",
              "    }\n",
              "\n",
              "    [theme=dark] .colab-df-convert:hover {\n",
              "      background-color: #434B5C;\n",
              "      box-shadow: 0px 1px 3px 1px rgba(0, 0, 0, 0.15);\n",
              "      filter: drop-shadow(0px 1px 2px rgba(0, 0, 0, 0.3));\n",
              "      fill: #FFFFFF;\n",
              "    }\n",
              "  </style>\n",
              "\n",
              "      <script>\n",
              "        const buttonEl =\n",
              "          document.querySelector('#df-23c3577a-f1ee-4aab-bcfb-295ebd8e424b button.colab-df-convert');\n",
              "        buttonEl.style.display =\n",
              "          google.colab.kernel.accessAllowed ? 'block' : 'none';\n",
              "\n",
              "        async function convertToInteractive(key) {\n",
              "          const element = document.querySelector('#df-23c3577a-f1ee-4aab-bcfb-295ebd8e424b');\n",
              "          const dataTable =\n",
              "            await google.colab.kernel.invokeFunction('convertToInteractive',\n",
              "                                                     [key], {});\n",
              "          if (!dataTable) return;\n",
              "\n",
              "          const docLinkHtml = 'Like what you see? Visit the ' +\n",
              "            '<a target=\"_blank\" href=https://colab.research.google.com/notebooks/data_table.ipynb>data table notebook</a>'\n",
              "            + ' to learn more about interactive tables.';\n",
              "          element.innerHTML = '';\n",
              "          dataTable['output_type'] = 'display_data';\n",
              "          await google.colab.output.renderOutput(dataTable, element);\n",
              "          const docLink = document.createElement('div');\n",
              "          docLink.innerHTML = docLinkHtml;\n",
              "          element.appendChild(docLink);\n",
              "        }\n",
              "      </script>\n",
              "    </div>\n",
              "  </div>\n",
              "  "
            ]
          },
          "metadata": {},
          "execution_count": 33
        }
      ]
    },
    {
      "cell_type": "code",
      "execution_count": 34,
      "metadata": {
        "id": "UZCxM1BcwbFT"
      },
      "outputs": [],
      "source": [
        "# Visualize importance of all the features in the dataset for the prediction\n",
        "def visualize_importance(feature_importances,dataset):\n",
        "  # creating dataframe for feature name and feature importance\n",
        "  feature_importance_df = pd.DataFrame()\n",
        "  feature_importance_df['Feature_importances'] = feature_importances\n",
        "  feature_importance_df['Features'] = dataset.columns\n",
        "  \n",
        "  # grouping all data and sorting in descending order\n",
        "  feature_importance_df = feature_importance_df.sort_values(by = ['Feature_importances'],ascending = False)\n",
        "\n",
        "  # ploting feature importance data using boxenplot\n",
        "  plot = sns.boxenplot(x = 'Feature_importances',y = 'Features',data = feature_importance_df)\n",
        "\n",
        "  #Return the plot\n",
        "  return plot"
      ]
    },
    {
      "cell_type": "code",
      "execution_count": 35,
      "metadata": {
        "id": "D10N3U1lLxQB"
      },
      "outputs": [],
      "source": [
        "# import accuracy_score, precision_score, precision_score, confusion_matrix\n",
        "from sklearn.metrics import accuracy_score,precision_score,confusion_matrix,recall_score"
      ]
    },
    {
      "cell_type": "markdown",
      "metadata": {
        "id": "TX3S-qx5Uvzq"
      },
      "source": [
        "## LogisticRegression"
      ]
    },
    {
      "cell_type": "code",
      "execution_count": 36,
      "metadata": {
        "colab": {
          "base_uri": "https://localhost:8080/",
          "height": 684
        },
        "id": "z8IKjUjhwbAt",
        "outputId": "bbd7f16e-74e5-4815-cb0b-ada1767e0a40"
      },
      "outputs": [
        {
          "output_type": "stream",
          "name": "stdout",
          "text": [
            "The accuracy score is  0.6930445647646813\n",
            "The Precision score is  1.0\n",
            "The Recall score is  0.3602430555555556\n",
            "The Confusion matrix is\n",
            "  [[1249    0]\n",
            " [ 737  415]]\n"
          ]
        },
        {
          "output_type": "display_data",
          "data": {
            "text/plain": [
              "<Figure size 432x288 with 1 Axes>"
            ],
            "image/png": "[encoded data removed]"
          },
          "metadata": {
            "needs_background": "light"
          }
        },
        {
          "output_type": "stream",
          "name": "stdout",
          "text": [
            "CPU times: user 360 ms, sys: 208 ms, total: 568 ms\n",
            "Wall time: 464 ms\n"
          ]
        },
        {
          "output_type": "execute_result",
          "data": {
            "text/plain": [
              "<matplotlib.axes._subplots.AxesSubplot at 0x7f1197167f50>"
            ]
          },
          "metadata": {},
          "execution_count": 36
        },
        {
          "output_type": "display_data",
          "data": {
            "text/plain": [
              "<Figure size 432x288 with 2 Axes>"
            ],
            "image/png": "[encoded data removed]"
          },
          "metadata": {
            "needs_background": "light"
          }
        }
      ],
      "source": [
        "%%time\n",
        "# Fit a logistic Regression model to the train dataset\n",
        "# Import logisticRegressor\n",
        "from sklearn.linear_model import LogisticRegression\n",
        "\n",
        "# Instantiate the model\n",
        "log_model = LogisticRegression()\n",
        "\n",
        "# fitting the model on train data\n",
        "log_model.fit(x_train,y_train)\n",
        "\n",
        "#predict on test data\n",
        "y_pred = log_model.predict(x_test)\n",
        "\n",
        "# print accuracy_score,precision_score,recall_score,confusion_matrix\n",
        "print('The accuracy score is ',accuracy_score(y_test,y_pred))\n",
        "print('The Precision score is ',precision_score(y_test,y_pred))\n",
        "print('The Recall score is ',recall_score(y_test,y_pred))\n",
        "confusion = confusion_matrix(y_test,y_pred)\n",
        "print('The Confusion matrix is\\n ',confusion)\n",
        "\n",
        "# visualizing importance of features\n",
        "plot = visualize_importance(log_model.coef_[0],x_train)\n",
        "plt.show(plot)\n",
        "\n",
        "# display confusion matrix\n",
        "sns.heatmap(confusion,annot = True)"
      ]
    },
    {
      "cell_type": "markdown",
      "metadata": {
        "id": "jMuXcH7vU0lG"
      },
      "source": [
        "## RandomForestClassifier"
      ]
    },
    {
      "cell_type": "code",
      "execution_count": 37,
      "metadata": {
        "colab": {
          "base_uri": "https://localhost:8080/",
          "height": 684
        },
        "id": "orHP9CXNwa_b",
        "outputId": "a3b27b57-6730-4165-e977-ebba7ed51ebf"
      },
      "outputs": [
        {
          "output_type": "stream",
          "name": "stdout",
          "text": [
            "The Accuracy score is  0.9900041649312786\n",
            "The Precision score is  0.9947368421052631\n",
            "The Recall score is  0.984375\n",
            "The Confusion matrix is\n",
            " [[1243    6]\n",
            " [  18 1134]]\n"
          ]
        },
        {
          "output_type": "display_data",
          "data": {
            "text/plain": [
              "<Figure size 432x288 with 1 Axes>"
            ],
            "image/png": "[encoded data removed]"
          },
          "metadata": {
            "needs_background": "light"
          }
        },
        {
          "output_type": "stream",
          "name": "stdout",
          "text": [
            "CPU times: user 1.68 s, sys: 69.3 ms, total: 1.75 s\n",
            "Wall time: 1.89 s\n"
          ]
        },
        {
          "output_type": "execute_result",
          "data": {
            "text/plain": [
              "<matplotlib.axes._subplots.AxesSubplot at 0x7f1196924c10>"
            ]
          },
          "metadata": {},
          "execution_count": 37
        },
        {
          "output_type": "display_data",
          "data": {
            "text/plain": [
              "<Figure size 432x288 with 2 Axes>"
            ],
            "image/png": "[encoded data removed]"
          },
          "metadata": {
            "needs_background": "light"
          }
        }
      ],
      "source": [
        "%%time\n",
        "# Fit a RandomForestClassifier model to the train dataset\n",
        "#import RandomForestClassifier\n",
        "from sklearn.ensemble import RandomForestClassifier\n",
        "\n",
        "# Instantiate the model\n",
        "rf = RandomForestClassifier()\n",
        "\n",
        "# fitting the model on train data\n",
        "rf.fit(x_train,y_train)\n",
        "\n",
        "# predict on test data\n",
        "y_pred = rf.predict(x_test)\n",
        "\n",
        "# print accuracy_score,precision_score,precision_score,confusion_matrix\n",
        "print('The Accuracy score is ',accuracy_score(y_test,y_pred))\n",
        "print('The Precision score is ',precision_score(y_test,y_pred))\n",
        "print('The Recall score is ',recall_score(y_test,y_pred))\n",
        "confusion = confusion_matrix(y_test,y_pred)\n",
        "print('The Confusion matrix is\\n',confusion)\n",
        "\n",
        "# visualizing importance of features\n",
        "plot = visualize_importance(rf.feature_importances_,x_train)\n",
        "plt.show()\n",
        "# display confusion matrix\n",
        "sns.heatmap(confusion,annot = True)"
      ]
    },
    {
      "cell_type": "markdown",
      "metadata": {
        "id": "boAQ9dIRU3Xd"
      },
      "source": [
        "## DecisionTreeClassifier"
      ]
    },
    {
      "cell_type": "code",
      "execution_count": 38,
      "metadata": {
        "colab": {
          "base_uri": "https://localhost:8080/",
          "height": 667
        },
        "id": "Hc3mwALPwa7-",
        "outputId": "c587ef07-10ff-4b60-ae42-32da70efb289"
      },
      "outputs": [
        {
          "output_type": "stream",
          "name": "stdout",
          "text": [
            "The Accuracy score is  0.9887546855476884\n",
            "The Precision score is  0.9938542581211589\n",
            "The Recall score is  0.9826388888888888\n",
            "The Confusion matrix is  [[1242    7]\n",
            " [  20 1132]]\n"
          ]
        },
        {
          "output_type": "display_data",
          "data": {
            "text/plain": [
              "<Figure size 432x288 with 1 Axes>"
            ],
            "image/png": "[encoded data removed]"
          },
          "metadata": {
            "needs_background": "light"
          }
        },
        {
          "output_type": "stream",
          "name": "stdout",
          "text": [
            "CPU times: user 269 ms, sys: 50.5 ms, total: 319 ms\n",
            "Wall time: 281 ms\n"
          ]
        },
        {
          "output_type": "execute_result",
          "data": {
            "text/plain": [
              "<matplotlib.axes._subplots.AxesSubplot at 0x7f11959df4d0>"
            ]
          },
          "metadata": {},
          "execution_count": 38
        },
        {
          "output_type": "display_data",
          "data": {
            "text/plain": [
              "<Figure size 432x288 with 2 Axes>"
            ],
            "image/png": "[encoded data removed]"
          },
          "metadata": {
            "needs_background": "light"
          }
        }
      ],
      "source": [
        "%%time\n",
        "# Fit a DecisionTreeClassifier model to the train dataset\n",
        "#import DecisionTreeClassifier\n",
        "from sklearn.tree import DecisionTreeClassifier\n",
        "\n",
        "# Instantiate the model\n",
        "dtree = DecisionTreeClassifier()\n",
        "\n",
        "# fitting the model on train data\n",
        "dtree.fit(x_train,y_train)\n",
        "\n",
        "# predict on test data\n",
        "y_pred = dtree.predict(x_test)\n",
        "\n",
        "# print accuracy_score,precision_score,precision_score,confusion_matrix\n",
        "print('The Accuracy score is ',accuracy_score(y_test,y_pred))\n",
        "print('The Precision score is ',precision_score(y_test,y_pred))\n",
        "print('The Recall score is ',recall_score(y_test,y_pred))\n",
        "confusion = confusion_matrix(y_test,y_pred)\n",
        "print('The Confusion matrix is ',confusion)\n",
        "\n",
        "# visualizing importance of features\n",
        "plot = visualize_importance(dtree.feature_importances_,x_train)\n",
        "plt.show()\n",
        "\n",
        "# display confusion matrix\n",
        "sns.heatmap(confusion,annot = True)"
      ]
    },
    {
      "cell_type": "markdown",
      "metadata": {
        "id": "GManaGfgU7io"
      },
      "source": [
        "## GradientBoostingClassifier"
      ]
    },
    {
      "cell_type": "code",
      "execution_count": 39,
      "metadata": {
        "colab": {
          "base_uri": "https://localhost:8080/",
          "height": 667
        },
        "id": "yDuLFGFEwa6i",
        "outputId": "9d4de93c-0d61-403f-eee3-7ba29216dbf8"
      },
      "outputs": [
        {
          "output_type": "stream",
          "name": "stdout",
          "text": [
            "The Accuracy score is  0.9879216992919617\n",
            "The Precision score is  0.9964633068081344\n",
            "The Recall score is  0.9782986111111112\n",
            "The Confusion matrix is  [[1245    4]\n",
            " [  25 1127]]\n"
          ]
        },
        {
          "output_type": "display_data",
          "data": {
            "text/plain": [
              "<Figure size 432x288 with 1 Axes>"
            ],
            "image/png": "[encoded data removed]"
          },
          "metadata": {
            "needs_background": "light"
          }
        },
        {
          "output_type": "stream",
          "name": "stdout",
          "text": [
            "CPU times: user 2.46 s, sys: 55.3 ms, total: 2.51 s\n",
            "Wall time: 2.48 s\n"
          ]
        },
        {
          "output_type": "execute_result",
          "data": {
            "text/plain": [
              "<matplotlib.axes._subplots.AxesSubplot at 0x7f1195a10c90>"
            ]
          },
          "metadata": {},
          "execution_count": 39
        },
        {
          "output_type": "display_data",
          "data": {
            "text/plain": [
              "<Figure size 432x288 with 2 Axes>"
            ],
            "image/png": "[encoded data removed]"
          },
          "metadata": {
            "needs_background": "light"
          }
        }
      ],
      "source": [
        "%%time\n",
        "# Fit a Gradient Boosting Classifier model to the train dataset\n",
        "# Import GradientBoostingClassifier\n",
        "from sklearn.ensemble import GradientBoostingClassifier\n",
        "\n",
        "# Instantiate the model\n",
        "gb_model = GradientBoostingClassifier()\n",
        "\n",
        "# fitting the model on train data\n",
        "gb_model.fit(x_train,y_train)\n",
        "\n",
        "# predict on test data\n",
        "y_pred = gb_model.predict(x_test)\n",
        "\n",
        "# print accuracy_score,precision_score,precision_score,confusion_matrix\n",
        "print('The Accuracy score is ',accuracy_score(y_test,y_pred))\n",
        "print('The Precision score is ',precision_score(y_test,y_pred))\n",
        "print('The Recall score is ',recall_score(y_test,y_pred))\n",
        "confusion = confusion_matrix(y_test,y_pred)\n",
        "print('The Confusion matrix is ',confusion)\n",
        "\n",
        "# visualizing importance of features\n",
        "plot = visualize_importance(gb_model.feature_importances_,x_train)\n",
        "plt.show()\n",
        "\n",
        "# display confusion matrix\n",
        "sns.heatmap(confusion,annot = True)"
      ]
    },
    {
      "cell_type": "markdown",
      "metadata": {
        "id": "h-SaINO6YrZe"
      },
      "source": [
        "## Hyper parameter tunning\n",
        "\n",
        "A hyperparameter is a parameter whose value is set before the learning process begins.\n",
        "\n",
        "Hyperparameters tuning is crucial as they control the overall behavior of a machine learning model.\n",
        "\n",
        "Every machine learning models will have different hyperparameters that can be set.\n",
        "\n",
        "###RandomizedSearchCV\n",
        "\n",
        "RandomizedSearchCV is very useful when we have many parameters to try and the training time is very long.\n",
        "\n",
        "1. The first step is to write the parameters that we want to consider\n",
        "2. From these parameters select the best ones.(which are printed in output)"
      ]
    },
    {
      "cell_type": "code",
      "execution_count": 47,
      "metadata": {
        "id": "NOC29Wj5YbCO"
      },
      "outputs": [],
      "source": [
        "# Helper function to perform hyper parameter tunning with RandomizedSearchCV\n",
        "from sklearn.model_selection import RandomizedSearchCV\n",
        "\n",
        "def RandomSearch(model,params):\n",
        "  # Random search of parameters, using 3 fold cross validation, \n",
        "  kcross = 3\n",
        "  # search across 100 different combinations, and use all available cores\n",
        "  randomized_search = RandomizedSearchCV(estimator = model,param_distributions = params,n_iter=10,cv = kcross)\n",
        "\n",
        "  # Fit the random search model\n",
        "  randomized_search.fit(x_train,y_train)\n",
        "  return randomized_search.best_params_"
      ]
    },
    {
      "cell_type": "code",
      "execution_count": 52,
      "metadata": {
        "id": "XFlw8BdEYcfC",
        "colab": {
          "base_uri": "https://localhost:8080/"
        },
        "outputId": "238f3e4d-87b4-492a-a1fc-4466e09457c7"
      },
      "outputs": [
        {
          "output_type": "stream",
          "name": "stdout",
          "text": [
            "CPU times: user 13.1 s, sys: 0 ns, total: 13.1 s\n",
            "Wall time: 13.2 s\n"
          ]
        }
      ],
      "source": [
        "%%time\n",
        "# for random forest classifier\n",
        "# create parameters dict for tunning\n",
        "rf = RandomForestClassifier()\n",
        "params = {\n",
        "    'n_estimators':[10,20,30,50,100],\n",
        "    'max_depth':np.linspace(1,32,32,endpoint = True),\n",
        "    'max_features':['auto']\n",
        "}\n",
        "# passing data for hyper parameter tunning with Randomized search cv\n",
        "\n",
        "best_params = RandomSearch(rf,params)"
      ]
    },
    {
      "cell_type": "code",
      "source": [
        "best_params"
      ],
      "metadata": {
        "colab": {
          "base_uri": "https://localhost:8080/"
        },
        "id": "2S6zsj6aXRSE",
        "outputId": "b12a5417-62f0-428e-9831-91cd01825c6f"
      },
      "execution_count": 53,
      "outputs": [
        {
          "output_type": "execute_result",
          "data": {
            "text/plain": [
              "{'n_estimators': 100, 'max_features': 'auto', 'max_depth': 25.0}"
            ]
          },
          "metadata": {},
          "execution_count": 53
        }
      ]
    },
    {
      "cell_type": "markdown",
      "metadata": {
        "id": "cN05dpdgRQO_"
      },
      "source": [
        "### working with best model"
      ]
    },
    {
      "cell_type": "code",
      "execution_count": 55,
      "metadata": {
        "colab": {
          "base_uri": "https://localhost:8080/"
        },
        "id": "vh4AUr77wax5",
        "outputId": "fb6f2dca-fffc-41f6-9bec-d25bb946b50e"
      },
      "outputs": [
        {
          "output_type": "stream",
          "name": "stdout",
          "text": [
            "Area under ROC of model on test set -  99.97755148563294\n"
          ]
        }
      ],
      "source": [
        "# print Area under ROC of Model On Test Set\n",
        "# Importing the roc_auc_score library from the metrics package\n",
        "from sklearn.metrics import roc_auc_score\n",
        "rf = RandomForestClassifier(**best_params)\n",
        "rf.fit(x_train,y_train)\n",
        "\n",
        "#Predicting the Probability of the test data\n",
        "y_prob = rf.predict_proba(x_test)\n",
        "y_prob = y_prob[:,1]\n",
        "\n",
        "#Area under the curve\n",
        "auc = roc_auc_score(y_test,y_prob)\n",
        "print('Area under ROC of model on test set - ',auc*100)"
      ]
    },
    {
      "cell_type": "code",
      "execution_count": 56,
      "metadata": {
        "id": "SkytbPoGwawF"
      },
      "outputs": [],
      "source": [
        "# Create a dataframe with predicted result as data using best model\n",
        "y_pred = rf.predict(x_test)\n",
        "y_pred = pd.DataFrame(y_pred,columns = ['Predicted Data'])"
      ]
    },
    {
      "cell_type": "code",
      "execution_count": 57,
      "metadata": {
        "colab": {
          "base_uri": "https://localhost:8080/",
          "height": 206
        },
        "id": "bYNliUkEwaQ-",
        "outputId": "1cb120db-5910-4acf-9b33-8cd0b4686cc9"
      },
      "outputs": [
        {
          "output_type": "execute_result",
          "data": {
            "text/plain": [
              "   Predicted Data\n",
              "0               1\n",
              "1               0\n",
              "2               1\n",
              "3               1\n",
              "4               1"
            ],
            "text/html": [
              "\n",
              "  <div id=\"df-814a196d-c39f-4a0e-bb94-2fa88023305b\">\n",
              "    <div class=\"colab-df-container\">\n",
              "      <div>\n",
              "<style scoped>\n",
              "    .dataframe tbody tr th:only-of-type {\n",
              "        vertical-align: middle;\n",
              "    }\n",
              "\n",
              "    .dataframe tbody tr th {\n",
              "        vertical-align: top;\n",
              "    }\n",
              "\n",
              "    .dataframe thead th {\n",
              "        text-align: right;\n",
              "    }\n",
              "</style>\n",
              "<table border=\"1\" class=\"dataframe\">\n",
              "  <thead>\n",
              "    <tr style=\"text-align: right;\">\n",
              "      <th></th>\n",
              "      <th>Predicted Data</th>\n",
              "    </tr>\n",
              "  </thead>\n",
              "  <tbody>\n",
              "    <tr>\n",
              "      <th>0</th>\n",
              "      <td>1</td>\n",
              "    </tr>\n",
              "    <tr>\n",
              "      <th>1</th>\n",
              "      <td>0</td>\n",
              "    </tr>\n",
              "    <tr>\n",
              "      <th>2</th>\n",
              "      <td>1</td>\n",
              "    </tr>\n",
              "    <tr>\n",
              "      <th>3</th>\n",
              "      <td>1</td>\n",
              "    </tr>\n",
              "    <tr>\n",
              "      <th>4</th>\n",
              "      <td>1</td>\n",
              "    </tr>\n",
              "  </tbody>\n",
              "</table>\n",
              "</div>\n",
              "      <button class=\"colab-df-convert\" onclick=\"convertToInteractive('df-814a196d-c39f-4a0e-bb94-2fa88023305b')\"\n",
              "              title=\"Convert this dataframe to an interactive table.\"\n",
              "              style=\"display:none;\">\n",
              "        \n",
              "  <svg xmlns=\"http://www.w3.org/2000/svg\" height=\"24px\"viewBox=\"0 0 24 24\"\n",
              "       width=\"24px\">\n",
              "    <path d=\"M0 0h24v24H0V0z\" fill=\"none\"/>\n",
              "    <path d=\"M18.56 5.44l.94 2.06.94-2.06 2.06-.94-2.06-.94-.94-2.06-.94 2.06-2.06.94zm-11 1L8.5 8.5l.94-2.06 2.06-.94-2.06-.94L8.5 2.5l-.94 2.06-2.06.94zm10 10l.94 2.06.94-2.06 2.06-.94-2.06-.94-.94-2.06-.94 2.06-2.06.94z\"/><path d=\"M17.41 7.96l-1.37-1.37c-.4-.4-.92-.59-1.43-.59-.52 0-1.04.2-1.43.59L10.3 9.45l-7.72 7.72c-.78.78-.78 2.05 0 2.83L4 21.41c.39.39.9.59 1.41.59.51 0 1.02-.2 1.41-.59l7.78-7.78 2.81-2.81c.8-.78.8-2.07 0-2.86zM5.41 20L4 18.59l7.72-7.72 1.47 1.35L5.41 20z\"/>\n",
              "  </svg>\n",
              "      </button>\n",
              "      \n",
              "  <style>\n",
              "    .colab-df-container {\n",
              "      display:flex;\n",
              "      flex-wrap:wrap;\n",
              "      gap: 12px;\n",
              "    }\n",
              "\n",
              "    .colab-df-convert {\n",
              "      background-color: #E8F0FE;\n",
              "      border: none;\n",
              "      border-radius: 50%;\n",
              "      cursor: pointer;\n",
              "      display: none;\n",
              "      fill: #1967D2;\n",
              "      height: 32px;\n",
              "      padding: 0 0 0 0;\n",
              "      width: 32px;\n",
              "    }\n",
              "\n",
              "    .colab-df-convert:hover {\n",
              "      background-color: #E2EBFA;\n",
              "      box-shadow: 0px 1px 2px rgba(60, 64, 67, 0.3), 0px 1px 3px 1px rgba(60, 64, 67, 0.15);\n",
              "      fill: #174EA6;\n",
              "    }\n",
              "\n",
              "    [theme=dark] .colab-df-convert {\n",
              "      background-color: #3B4455;\n",
              "      fill: #D2E3FC;\n",
              "    }\n",
              "\n",
              "    [theme=dark] .colab-df-convert:hover {\n",
              "      background-color: #434B5C;\n",
              "      box-shadow: 0px 1px 3px 1px rgba(0, 0, 0, 0.15);\n",
              "      filter: drop-shadow(0px 1px 2px rgba(0, 0, 0, 0.3));\n",
              "      fill: #FFFFFF;\n",
              "    }\n",
              "  </style>\n",
              "\n",
              "      <script>\n",
              "        const buttonEl =\n",
              "          document.querySelector('#df-814a196d-c39f-4a0e-bb94-2fa88023305b button.colab-df-convert');\n",
              "        buttonEl.style.display =\n",
              "          google.colab.kernel.accessAllowed ? 'block' : 'none';\n",
              "\n",
              "        async function convertToInteractive(key) {\n",
              "          const element = document.querySelector('#df-814a196d-c39f-4a0e-bb94-2fa88023305b');\n",
              "          const dataTable =\n",
              "            await google.colab.kernel.invokeFunction('convertToInteractive',\n",
              "                                                     [key], {});\n",
              "          if (!dataTable) return;\n",
              "\n",
              "          const docLinkHtml = 'Like what you see? Visit the ' +\n",
              "            '<a target=\"_blank\" href=https://colab.research.google.com/notebooks/data_table.ipynb>data table notebook</a>'\n",
              "            + ' to learn more about interactive tables.';\n",
              "          element.innerHTML = '';\n",
              "          dataTable['output_type'] = 'display_data';\n",
              "          await google.colab.output.renderOutput(dataTable, element);\n",
              "          const docLink = document.createElement('div');\n",
              "          docLink.innerHTML = docLinkHtml;\n",
              "          element.appendChild(docLink);\n",
              "        }\n",
              "      </script>\n",
              "    </div>\n",
              "  </div>\n",
              "  "
            ]
          },
          "metadata": {},
          "execution_count": 57
        }
      ],
      "source": [
        "y_pred.head()"
      ]
    },
    {
      "cell_type": "markdown",
      "metadata": {
        "id": "RG9uGYSFX65g"
      },
      "source": [
        "# Conclusion\n",
        "\n",
        "According to this model, the predicted value we got, matches with the actual target values. The model is performing well.  We have performed EDA, preprocessing, build different models, visualized feature importance, did hyper parameter tunning and did prediction."
      ]
    },
    {
      "cell_type": "markdown",
      "metadata": {
        "id": "p5t_gn_nX0wm"
      },
      "source": [
        "## Congratulation for completing the assignment.\n",
        "You have learned a lot while doing this assignment."
      ]
    }
  ],
  "metadata": {
    "colab": {
      "collapsed_sections": [],
      "name": "Electrical_Fault_detection_without_code.ipynb",
      "provenance": []
    },
    "kernelspec": {
      "display_name": "Python 3",
      "language": "python",
      "name": "python3"
    },
    "language_info": {
      "codemirror_mode": {
        "name": "ipython",
        "version": 3
      },
      "file_extension": ".py",
      "mimetype": "text/x-python",
      "name": "python",
      "nbconvert_exporter": "python",
      "pygments_lexer": "ipython3",
      "version": "3.7.6"
    }
  },
  "nbformat": 4,
  "nbformat_minor": 0
}